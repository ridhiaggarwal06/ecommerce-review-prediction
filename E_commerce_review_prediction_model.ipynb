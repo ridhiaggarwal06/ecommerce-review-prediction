{
  "cells": [
    {
      "cell_type": "markdown",
      "metadata": {
        "id": "view-in-github",
        "colab_type": "text"
      },
      "source": [
        "<a href=\"https://colab.research.google.com/github/ridhiaggarwal06/ecommerce-review-prediction/blob/main/E_commerce_review_prediction_model.ipynb\" target=\"_parent\"><img src=\"https://colab.research.google.com/assets/colab-badge.svg\" alt=\"Open In Colab\"/></a>"
      ]
    },
    {
      "cell_type": "markdown",
      "source": [
        "### Import Libraries"
      ],
      "metadata": {
        "id": "mS2GX2hYIimi"
      }
    },
    {
      "cell_type": "code",
      "execution_count": null,
      "metadata": {
        "id": "9QqJMheOHats"
      },
      "outputs": [],
      "source": [
        "import pandas as pd\n",
        "import numpy as np"
      ]
    },
    {
      "cell_type": "markdown",
      "source": [
        "### Upload data from Local system"
      ],
      "metadata": {
        "id": "0QamNfP_L8vd"
      }
    },
    {
      "cell_type": "code",
      "source": [
        "upload files\n",
        "from google.colab import files\n",
        "uploaded = files.upload()"
      ],
      "metadata": {
        "colab": {
          "base_uri": "https://localhost:8080/",
          "height": 356
        },
        "id": "rDpbjn-hKJXa",
        "outputId": "aacb1db9-025e-4358-c947-cdf200b22525"
      },
      "execution_count": null,
      "outputs": [
        {
          "output_type": "display_data",
          "data": {
            "text/plain": [
              "<IPython.core.display.HTML object>"
            ],
            "text/html": [
              "\n",
              "     <input type=\"file\" id=\"files-b7648146-94f6-49f0-bb61-718203d569c1\" name=\"files[]\" multiple disabled\n",
              "        style=\"border:none\" />\n",
              "     <output id=\"result-b7648146-94f6-49f0-bb61-718203d569c1\">\n",
              "      Upload widget is only available when the cell has been executed in the\n",
              "      current browser session. Please rerun this cell to enable.\n",
              "      </output>\n",
              "      <script>// Copyright 2017 Google LLC\n",
              "//\n",
              "// Licensed under the Apache License, Version 2.0 (the \"License\");\n",
              "// you may not use this file except in compliance with the License.\n",
              "// You may obtain a copy of the License at\n",
              "//\n",
              "//      http://www.apache.org/licenses/LICENSE-2.0\n",
              "//\n",
              "// Unless required by applicable law or agreed to in writing, software\n",
              "// distributed under the License is distributed on an \"AS IS\" BASIS,\n",
              "// WITHOUT WARRANTIES OR CONDITIONS OF ANY KIND, either express or implied.\n",
              "// See the License for the specific language governing permissions and\n",
              "// limitations under the License.\n",
              "\n",
              "/**\n",
              " * @fileoverview Helpers for google.colab Python module.\n",
              " */\n",
              "(function(scope) {\n",
              "function span(text, styleAttributes = {}) {\n",
              "  const element = document.createElement('span');\n",
              "  element.textContent = text;\n",
              "  for (const key of Object.keys(styleAttributes)) {\n",
              "    element.style[key] = styleAttributes[key];\n",
              "  }\n",
              "  return element;\n",
              "}\n",
              "\n",
              "// Max number of bytes which will be uploaded at a time.\n",
              "const MAX_PAYLOAD_SIZE = 100 * 1024;\n",
              "\n",
              "function _uploadFiles(inputId, outputId) {\n",
              "  const steps = uploadFilesStep(inputId, outputId);\n",
              "  const outputElement = document.getElementById(outputId);\n",
              "  // Cache steps on the outputElement to make it available for the next call\n",
              "  // to uploadFilesContinue from Python.\n",
              "  outputElement.steps = steps;\n",
              "\n",
              "  return _uploadFilesContinue(outputId);\n",
              "}\n",
              "\n",
              "// This is roughly an async generator (not supported in the browser yet),\n",
              "// where there are multiple asynchronous steps and the Python side is going\n",
              "// to poll for completion of each step.\n",
              "// This uses a Promise to block the python side on completion of each step,\n",
              "// then passes the result of the previous step as the input to the next step.\n",
              "function _uploadFilesContinue(outputId) {\n",
              "  const outputElement = document.getElementById(outputId);\n",
              "  const steps = outputElement.steps;\n",
              "\n",
              "  const next = steps.next(outputElement.lastPromiseValue);\n",
              "  return Promise.resolve(next.value.promise).then((value) => {\n",
              "    // Cache the last promise value to make it available to the next\n",
              "    // step of the generator.\n",
              "    outputElement.lastPromiseValue = value;\n",
              "    return next.value.response;\n",
              "  });\n",
              "}\n",
              "\n",
              "/**\n",
              " * Generator function which is called between each async step of the upload\n",
              " * process.\n",
              " * @param {string} inputId Element ID of the input file picker element.\n",
              " * @param {string} outputId Element ID of the output display.\n",
              " * @return {!Iterable<!Object>} Iterable of next steps.\n",
              " */\n",
              "function* uploadFilesStep(inputId, outputId) {\n",
              "  const inputElement = document.getElementById(inputId);\n",
              "  inputElement.disabled = false;\n",
              "\n",
              "  const outputElement = document.getElementById(outputId);\n",
              "  outputElement.innerHTML = '';\n",
              "\n",
              "  const pickedPromise = new Promise((resolve) => {\n",
              "    inputElement.addEventListener('change', (e) => {\n",
              "      resolve(e.target.files);\n",
              "    });\n",
              "  });\n",
              "\n",
              "  const cancel = document.createElement('button');\n",
              "  inputElement.parentElement.appendChild(cancel);\n",
              "  cancel.textContent = 'Cancel upload';\n",
              "  const cancelPromise = new Promise((resolve) => {\n",
              "    cancel.onclick = () => {\n",
              "      resolve(null);\n",
              "    };\n",
              "  });\n",
              "\n",
              "  // Wait for the user to pick the files.\n",
              "  const files = yield {\n",
              "    promise: Promise.race([pickedPromise, cancelPromise]),\n",
              "    response: {\n",
              "      action: 'starting',\n",
              "    }\n",
              "  };\n",
              "\n",
              "  cancel.remove();\n",
              "\n",
              "  // Disable the input element since further picks are not allowed.\n",
              "  inputElement.disabled = true;\n",
              "\n",
              "  if (!files) {\n",
              "    return {\n",
              "      response: {\n",
              "        action: 'complete',\n",
              "      }\n",
              "    };\n",
              "  }\n",
              "\n",
              "  for (const file of files) {\n",
              "    const li = document.createElement('li');\n",
              "    li.append(span(file.name, {fontWeight: 'bold'}));\n",
              "    li.append(span(\n",
              "        `(${file.type || 'n/a'}) - ${file.size} bytes, ` +\n",
              "        `last modified: ${\n",
              "            file.lastModifiedDate ? file.lastModifiedDate.toLocaleDateString() :\n",
              "                                    'n/a'} - `));\n",
              "    const percent = span('0% done');\n",
              "    li.appendChild(percent);\n",
              "\n",
              "    outputElement.appendChild(li);\n",
              "\n",
              "    const fileDataPromise = new Promise((resolve) => {\n",
              "      const reader = new FileReader();\n",
              "      reader.onload = (e) => {\n",
              "        resolve(e.target.result);\n",
              "      };\n",
              "      reader.readAsArrayBuffer(file);\n",
              "    });\n",
              "    // Wait for the data to be ready.\n",
              "    let fileData = yield {\n",
              "      promise: fileDataPromise,\n",
              "      response: {\n",
              "        action: 'continue',\n",
              "      }\n",
              "    };\n",
              "\n",
              "    // Use a chunked sending to avoid message size limits. See b/62115660.\n",
              "    let position = 0;\n",
              "    do {\n",
              "      const length = Math.min(fileData.byteLength - position, MAX_PAYLOAD_SIZE);\n",
              "      const chunk = new Uint8Array(fileData, position, length);\n",
              "      position += length;\n",
              "\n",
              "      const base64 = btoa(String.fromCharCode.apply(null, chunk));\n",
              "      yield {\n",
              "        response: {\n",
              "          action: 'append',\n",
              "          file: file.name,\n",
              "          data: base64,\n",
              "        },\n",
              "      };\n",
              "\n",
              "      let percentDone = fileData.byteLength === 0 ?\n",
              "          100 :\n",
              "          Math.round((position / fileData.byteLength) * 100);\n",
              "      percent.textContent = `${percentDone}% done`;\n",
              "\n",
              "    } while (position < fileData.byteLength);\n",
              "  }\n",
              "\n",
              "  // All done.\n",
              "  yield {\n",
              "    response: {\n",
              "      action: 'complete',\n",
              "    }\n",
              "  };\n",
              "}\n",
              "\n",
              "scope.google = scope.google || {};\n",
              "scope.google.colab = scope.google.colab || {};\n",
              "scope.google.colab._files = {\n",
              "  _uploadFiles,\n",
              "  _uploadFilesContinue,\n",
              "};\n",
              "})(self);\n",
              "</script> "
            ]
          },
          "metadata": {}
        },
        {
          "output_type": "stream",
          "name": "stdout",
          "text": [
            "Saving olist_customers_dataset.csv to olist_customers_dataset.csv\n",
            "Saving olist_geolocation_dataset.csv to olist_geolocation_dataset.csv\n",
            "Saving olist_order_items_dataset.csv to olist_order_items_dataset.csv\n",
            "Saving olist_order_payments_dataset.csv to olist_order_payments_dataset.csv\n",
            "Saving olist_order_reviews_dataset.csv to olist_order_reviews_dataset.csv\n",
            "Saving olist_orders_dataset.csv to olist_orders_dataset.csv\n",
            "Saving olist_products_dataset.csv to olist_products_dataset.csv\n",
            "Saving olist_sellers_dataset.csv to olist_sellers_dataset.csv\n",
            "Saving product_category_name_translation.csv to product_category_name_translation.csv\n"
          ]
        }
      ]
    },
    {
      "cell_type": "code",
      "execution_count": null,
      "metadata": {
        "id": "UinysNTgHatu"
      },
      "outputs": [],
      "source": [
        "# read files\n",
        "review = pd.read_csv(\"olist_order_reviews_dataset.csv\")\n",
        "order = pd.read_csv(\"olist_orders_dataset.csv\")\n",
        "payment = pd.read_csv(\"olist_order_payments_dataset.csv\")\n",
        "customer = pd.read_csv(\"olist_customers_dataset.csv\")\n",
        "items = pd.read_csv(\"olist_order_items_dataset.csv\")\n",
        "product = pd.read_csv(\"olist_products_dataset.csv\")\n",
        "seller = pd.read_csv(\"olist_sellers_dataset.csv\")\n",
        "geolocation = pd.read_csv(\"olist_geolocation_dataset.csv\")"
      ]
    },
    {
      "cell_type": "markdown",
      "source": [
        "### Merge all dataframes into a master dataset"
      ],
      "metadata": {
        "id": "IwZ_JzB4MEWE"
      }
    },
    {
      "cell_type": "code",
      "source": [
        "# Merging all relevant datasets into one final DataFrame based on common keys\n",
        "# This includes review, order, payment, customer, items, product, and seller data\n",
        "df_final = pd.merge(review,order,how=\"left\",on=\"order_id\")\n",
        "df_final = pd.merge(df_final,payment,how=\"left\",on=\"order_id\")\n",
        "df_final = pd.merge(df_final,customer,how=\"left\",on=\"customer_id\")\n",
        "df_final = pd.merge(df_final,items,how=\"left\",on=\"order_id\")\n",
        "df_final = pd.merge(df_final,product,how=\"left\",on=\"product_id\")\n",
        "df_final = pd.merge(df_final,seller,how=\"left\",on=\"seller_id\")"
      ],
      "metadata": {
        "id": "iA6jqdGCPCPO"
      },
      "execution_count": null,
      "outputs": []
    },
    {
      "cell_type": "code",
      "source": [
        "# Saving the merged dataset to a CSV file for future use\n",
        "df_final.to_csv(\"data.csv\")"
      ],
      "metadata": {
        "id": "nojqb8kRv2Vj"
      },
      "execution_count": null,
      "outputs": []
    },
    {
      "cell_type": "code",
      "source": [
        "# Loading the saved merged dataset\n",
        "# Index column (0) is the default index created by pandas\n",
        "df = pd.read_csv(\"data.csv\",index_col=0)"
      ],
      "metadata": {
        "colab": {
          "base_uri": "https://localhost:8080/"
        },
        "collapsed": true,
        "id": "RRVr2sabPtHg",
        "outputId": "bf0e3846-a89f-47ea-c302-fa8e199e53a6"
      },
      "execution_count": null,
      "outputs": [
        {
          "output_type": "stream",
          "name": "stderr",
          "text": [
            "<ipython-input-6-c10251d9f55f>:2: DtypeWarning: Columns (3,17,20,33,34) have mixed types. Specify dtype option on import or set low_memory=False.\n",
            "  df = pd.read_csv(\"data.csv\",index_col=0)\n"
          ]
        }
      ]
    },
    {
      "cell_type": "markdown",
      "source": [
        "## Data processing"
      ],
      "metadata": {
        "id": "omLEnEJpRKWz"
      }
    },
    {
      "cell_type": "code",
      "source": [
        "# remove any duplicate rows\n",
        "df = df.drop_duplicates()\n",
        "\n",
        "#sum(payment_value) in same order id\n",
        "df = df.drop(columns=[\"payment_sequential\"])\n",
        "df = df.drop(columns=[\"payment_type\"])\n",
        "\n",
        "# Group by relevant columns and sum payment values while retaining the first occurrence of all other columns\n",
        "result = (df.groupby([\"order_id\", \"order_item_id\",\"review_id\",\"product_id\",\"customer_id\"], as_index=False)\n",
        "    .agg({\"payment_value\": \"sum\",\n",
        "        **{col: \"first\" for col in df.columns if col not in [\"order_id\", \"order_item_id\", \"payment_value\"]}}))\n",
        "\n",
        "# Add a new column: number of times each product appears in an order\n",
        "result[\"item_number\"] = result.groupby([\"order_id\", \"product_id\"])[\"product_id\"].transform(\"count\")\n",
        "\n",
        "# Drop duplicate combinations of order_id and product_id to avoid repetition\n",
        "results = result.drop_duplicates(subset=[\"order_id\", \"product_id\"])"
      ],
      "metadata": {
        "id": "kN_pC2KMRVYC"
      },
      "execution_count": null,
      "outputs": []
    },
    {
      "cell_type": "code",
      "source": [
        "# Set the cleaned result as the new working DataFrame\n",
        "df=results"
      ],
      "metadata": {
        "id": "nlcEfhhjS0Lu"
      },
      "execution_count": null,
      "outputs": []
    },
    {
      "cell_type": "code",
      "source": [
        "# Save the updated dataset\n",
        "df.to_csv(\"111.csv\")"
      ],
      "metadata": {
        "id": "QK56GjcA1yUx"
      },
      "execution_count": null,
      "outputs": []
    },
    {
      "cell_type": "markdown",
      "source": [
        "## Data cleaning"
      ],
      "metadata": {
        "id": "YUimYS_0SEMJ"
      }
    },
    {
      "cell_type": "markdown",
      "source": [
        "### Payment consistency check"
      ],
      "metadata": {
        "id": "THyZs9VwMv38"
      }
    },
    {
      "cell_type": "code",
      "source": [
        "# Round payment value to 2 decimals\n",
        "#check if payment more than total price: drop 150rows\n",
        "df.loc[:, \"payment_value\"] = df[\"payment_value\"].round(2)\n",
        "\n",
        "# Calculate individual product price (including freight) * quantity\n",
        "#iprice = total price of one product in one order\n",
        "df.loc[:, \"iprice\"] = ((df[\"freight_value\"] + df[\"price\"]) * df[\"item_number\"])\\\n",
        "\n",
        "# Calculate total price per order by summing individual product prices\n",
        "df.loc[:, \"totalprice\"] = df.groupby([\"order_id\", \"review_id\"])[\"iprice\"].transform(\"sum\")\n",
        "df.loc[:, \"totalprice\"] = df[\"totalprice\"].round(2)\n",
        "\n",
        "# Remove orders where payment was higher than the total price (possible data error)\n",
        "condition = df[\"payment_value\"].round(-1) > df[\"totalprice\"].round(-1)\n",
        "check1 = df[condition]  # Can be printed for inspection\n",
        "\n",
        "print(check1)\n",
        "\n",
        "# Keep only valid rows\n",
        "df = df[~condition]"
      ],
      "metadata": {
        "colab": {
          "base_uri": "https://localhost:8080/"
        },
        "collapsed": true,
        "id": "kX6vmzTmR6kH",
        "outputId": "b924e892-dd3b-46aa-9bf4-3322cc629128"
      },
      "execution_count": null,
      "outputs": [
        {
          "output_type": "stream",
          "name": "stderr",
          "text": [
            "<ipython-input-10-ec4be7bbdd80>:4: SettingWithCopyWarning: \n",
            "A value is trying to be set on a copy of a slice from a DataFrame.\n",
            "Try using .loc[row_indexer,col_indexer] = value instead\n",
            "\n",
            "See the caveats in the documentation: https://pandas.pydata.org/pandas-docs/stable/user_guide/indexing.html#returning-a-view-versus-a-copy\n",
            "  df.loc[:, \"iprice\"] = ((df[\"freight_value\"] + df[\"price\"]) * df[\"item_number\"])\n",
            "<ipython-input-10-ec4be7bbdd80>:6: SettingWithCopyWarning: \n",
            "A value is trying to be set on a copy of a slice from a DataFrame.\n",
            "Try using .loc[row_indexer,col_indexer] = value instead\n",
            "\n",
            "See the caveats in the documentation: https://pandas.pydata.org/pandas-docs/stable/user_guide/indexing.html#returning-a-view-versus-a-copy\n",
            "  df.loc[:, \"totalprice\"] = df.groupby([\"order_id\", \"review_id\"])[\"iprice\"].transform(\"sum\")\n"
          ]
        },
        {
          "output_type": "stream",
          "name": "stdout",
          "text": [
            "                                order_id  order_item_id  payment_value  \\\n",
            "157     00789ce015e7e5791c7914f32bb4fad4            1.0         190.81   \n",
            "533     016726239765c18f66826453f39c64e3            1.0         265.77   \n",
            "731     01e51b7c3025655646143d09b911e1d7            1.0          35.02   \n",
            "1138    02f4dd90ba0feb8ec394cac05862d2b5            1.0         141.65   \n",
            "1248    033ccfbdfc4d29677b7e1e6df3a82820            1.0          69.26   \n",
            "...                                  ...            ...            ...   \n",
            "98804   f7d17bafe7c67afef77b8a96ad5abfd3            1.0         115.64   \n",
            "99693   fa0d5b3cb1f2221766145a60ba18ac64            1.0         141.32   \n",
            "99912   fa87437f971fce498b2184cd2401e23e            1.0          66.93   \n",
            "100064  faf132fb35b3b3b533a67efbd6e7c02d            1.0         130.01   \n",
            "100466  fbf352b18a26c6a86a53cca922facd25            1.0         160.80   \n",
            "\n",
            "                               review_id review_score review_comment_title  \\\n",
            "157     e880864e64f669aea8904ee3f201875c            5                 None   \n",
            "533     079835317e90d397b9ed686ac4e26cbc            5                 None   \n",
            "731     53a796ebb6934010e69897a70049688d            3                 None   \n",
            "1138    c192ee9b99f5432f5d27311fd158c85e            5                 None   \n",
            "1248    eaeda87957d38d40463de5905a72bf63            5                 None   \n",
            "...                                  ...          ...                  ...   \n",
            "98804   1d248a71ece1a2c55642aeb704864413            5                 None   \n",
            "99693   656f0fad4a3f614ec4235f3a450ab8fb            5                 None   \n",
            "99912   fa429f3654612c5c99b03154328aebe3            5                 None   \n",
            "100064  7f12b7e4c1e60eeb5f9f694012c4c72b            5                 None   \n",
            "100466  33f97cf61284feabb0664d7c2486b193            1                 None   \n",
            "\n",
            "                                   review_comment_message  \\\n",
            "157                                                  None   \n",
            "533                 chegou bem antes do prazo estipulado.   \n",
            "731     Gastei muita passagem depois de pagar frete, p...   \n",
            "1138                                                 None   \n",
            "1248              Bom de confiança, produto de qualidade.   \n",
            "...                                                   ...   \n",
            "98804                                                None   \n",
            "99693                                                None   \n",
            "99912                    muito bom recomendo gostei muito   \n",
            "100064  Ótima loja para compra online pois fazem a ent...   \n",
            "100466  mandei uma mensagem, para tentar resolver o pr...   \n",
            "\n",
            "       review_creation_date review_answer_timestamp  \\\n",
            "157        18/07/2017 00:00        19/07/2017 16:57   \n",
            "533        17/06/2017 00:00        20/06/2017 11:17   \n",
            "731        01/02/2018 00:00        01/02/2018 23:32   \n",
            "1138       27/06/2018 00:00        27/06/2018 12:57   \n",
            "1248       06/05/2017 00:00        07/05/2017 11:22   \n",
            "...                     ...                     ...   \n",
            "98804      10/02/2018 00:00        12/02/2018 17:11   \n",
            "99693      27/01/2018 00:00        29/01/2018 11:48   \n",
            "99912      21/02/2018 00:00        09/03/2018 13:40   \n",
            "100064     06/05/2017 00:00        07/05/2017 23:01   \n",
            "100466     16/02/2018 00:00        20/02/2018 12:08   \n",
            "\n",
            "                             customer_id  ... product_weight_g  \\\n",
            "157     342c4258969c528c3469db9acaf6b0ad  ...            500.0   \n",
            "533     6204061101097bad0b25b3c4fce9ee8d  ...           2900.0   \n",
            "731     1441fb0aa631b791bcb461e549d7b7ce  ...            150.0   \n",
            "1138    df6d93efba53a613bf2365f7945febb0  ...            150.0   \n",
            "1248    718f5495b3bce9a9f415631186f52956  ...            250.0   \n",
            "...                                  ...  ...              ...   \n",
            "98804   c50977225ea8106769613f88e9ca304e  ...            500.0   \n",
            "99693   fca009d3c1e93669776e17149081e0da  ...            900.0   \n",
            "99912   71ebe0889c5ef604bd7281ecd5159045  ...           1550.0   \n",
            "100064  01b6593aa123cea222a7b4c18c3e6961  ...           1383.0   \n",
            "100466  ddf7f01125cf17e84de173d4d8112035  ...           4300.0   \n",
            "\n",
            "       product_length_cm product_height_cm product_width_cm  \\\n",
            "157                 28.0               3.0             19.0   \n",
            "533                 35.0              12.0             30.0   \n",
            "731                 16.0               9.0             11.0   \n",
            "1138                18.0              20.0             11.0   \n",
            "1248                18.0               3.0             28.0   \n",
            "...                  ...               ...              ...   \n",
            "98804               20.0              18.0             20.0   \n",
            "99693               18.0              51.0             35.0   \n",
            "99912               30.0              22.0             30.0   \n",
            "100064              50.0              10.0             40.0   \n",
            "100466              70.0              15.0             15.0   \n",
            "\n",
            "       seller_zip_code_prefix            seller_city seller_state item_number  \\\n",
            "157                    3813.0              sao paulo           SP           1   \n",
            "533                    4248.0              sao paulo           SP           1   \n",
            "731                    3573.0              sao paulo           SP           1   \n",
            "1138                  13023.0               campinas           SP           1   \n",
            "1248                  11010.0                 santos           SP           1   \n",
            "...                       ...                    ...          ...         ...   \n",
            "98804                 38700.0         patos de minas           MG           1   \n",
            "99693                 31255.0         belo horizonte           MG           1   \n",
            "99912                 15025.0  sao jose do rio preto           SP           1   \n",
            "100064                14940.0               ibitinga           SP           1   \n",
            "100466                36325.0             tiradentes           MG           2   \n",
            "\n",
            "        iprice totalprice  \n",
            "157     168.83     168.83  \n",
            "533     235.13     235.13  \n",
            "731      33.10      33.10  \n",
            "1138    130.96     130.96  \n",
            "1248     59.96      59.96  \n",
            "...        ...        ...  \n",
            "98804   108.10     108.10  \n",
            "99693   129.21     129.21  \n",
            "99912    63.27      63.27  \n",
            "100064  115.02     115.02  \n",
            "100466  151.54     151.54  \n",
            "\n",
            "[150 rows x 40 columns]\n"
          ]
        }
      ]
    },
    {
      "cell_type": "markdown",
      "source": [
        "### Convert date columns to proper `datetime` format"
      ],
      "metadata": {
        "id": "ABhDM4Sfihe0"
      }
    },
    {
      "cell_type": "code",
      "source": [
        "# Convert review-related dates\n",
        "df.loc[:, 'review_creation_date'] = pd.to_datetime(df['review_creation_date'], dayfirst=True, errors='coerce')\n",
        "df.loc[:, 'review_answer_timestamp'] = pd.to_datetime(df['review_answer_timestamp'], dayfirst=True, errors='coerce')"
      ],
      "metadata": {
        "id": "edF0V4QhSasq"
      },
      "execution_count": null,
      "outputs": []
    },
    {
      "cell_type": "code",
      "source": [
        "# Convert all other timestamp-related columns\n",
        "date_columns = [\n",
        "    'order_purchase_timestamp',\n",
        "    'order_approved_at',\n",
        "    'order_delivered_carrier_date',\n",
        "    'order_estimated_delivery_date',\n",
        "    'order_delivered_customer_date',\n",
        "    'shipping_limit_date'\n",
        "]\n",
        "\n",
        "for col in date_columns:\n",
        "    df.loc[:, col] = pd.to_datetime(df[col], errors='coerce')"
      ],
      "metadata": {
        "id": "Zn-OsI9HVv7u"
      },
      "execution_count": null,
      "outputs": []
    },
    {
      "cell_type": "markdown",
      "source": [
        "### Validate order status against delivery data"
      ],
      "metadata": {
        "id": "6tilWaFSi3I3"
      }
    },
    {
      "cell_type": "code",
      "source": [
        "# Find inconsistencies: marked as delivered but no delivery date\n",
        "falsedelivered = df[(df['order_status'] == 'delivered') & (df['order_delivered_customer_date'].isnull())]   #7 rows\n",
        "print(falsedelivered)\n",
        "\n",
        "# Find inconsistencies: not marked as delivered but has a delivery date\n",
        "falseundelivered = df[(df['order_status'] != 'delivered') & (df['order_delivered_customer_date'].notna())]   #7 rows\n",
        "print(falseundelivered)"
      ],
      "metadata": {
        "colab": {
          "base_uri": "https://localhost:8080/"
        },
        "collapsed": true,
        "id": "xxrvCMPy5doP",
        "outputId": "ff1f31ac-dabd-4208-f187-c2c601382ad8"
      },
      "execution_count": null,
      "outputs": [
        {
          "output_type": "stream",
          "name": "stdout",
          "text": [
            "                               order_id  order_item_id  payment_value  \\\n",
            "5307   0d3268bad9b086af767785e3f0fc0133            1.0         204.62   \n",
            "13123  20edc82cf5400ce95e1afacc25798b31            1.0          54.97   \n",
            "17781  2d1e2d5bf4dc7227b3bfebb81328c15f            1.0         134.83   \n",
            "17952  2d858f451373b04fb5c984a1cc2defaf            1.0         194.00   \n",
            "18463  2ebdfc4f15f23b91474edf87475f108e            1.0         158.07   \n",
            "68227  ab7c89dc1bf4a1ead9d6ec1ec8968a84            1.0         120.12   \n",
            "92070  e69f75a717d64fc5ecdfae42b2e8e086            1.0         158.07   \n",
            "\n",
            "                              review_id review_score review_comment_title  \\\n",
            "5307   ee2d30652e2f7fc00861074f795f5bf0            5           Excelente!   \n",
            "13123  d055795a562efffefe47ef81e5435322            5            Muito bom   \n",
            "17781  f48c6c944a5d52dcca8ac5c4ec417cf2            5                 None   \n",
            "17952  4e755f114e50d33b9ac6a56e0d7d3ea9            5                 None   \n",
            "18463  25e11638a3d01a87e8e62338a39eee28            5                 None   \n",
            "68227  0d4c56af896dd6eb9de8edbaa1902d22            1              Péssimo   \n",
            "92070  bb311d9562ecbefc8e4be756d8999892            5                 None   \n",
            "\n",
            "                                  review_comment_message review_creation_date  \\\n",
            "5307   O produto chegou muito antes do prazo previsto...  2018-07-06 00:00:00   \n",
            "13123                                             Adorei  2018-07-06 00:00:00   \n",
            "17781                              Chegou rápido tudo ok  2017-12-19 00:00:00   \n",
            "17952                                               None  2017-06-25 00:00:00   \n",
            "18463                                               None  2018-07-11 00:00:00   \n",
            "68227  Comprei um produto de uma marca e recebi outro...  2018-06-16 00:00:00   \n",
            "92070                                               None  2018-07-07 00:00:00   \n",
            "\n",
            "      review_answer_timestamp                       customer_id  ...  \\\n",
            "5307      2018-07-07 18:48:00  4f1d63d35fb7c8999853b2699f5c7649  ...   \n",
            "13123     2018-07-06 20:30:00  28c37425f1127d887d7337f284080a0f  ...   \n",
            "17781     2017-12-19 04:15:00  ec05a6d8558c6455f0cbbd8a420ad34f  ...   \n",
            "17952     2017-06-27 01:49:00  e08caf668d499a6d643dafd7c5cc498a  ...   \n",
            "18463     2018-07-11 19:27:00  29f0540231702fda0cfdee0a310f11aa  ...   \n",
            "68227     2018-06-16 13:55:00  dd1b84a7286eb4524d52af4256c0ba24  ...   \n",
            "92070     2018-07-10 11:38:00  cfda40ca8dd0a5d486a9635b611b398a  ...   \n",
            "\n",
            "      product_weight_g product_length_cm product_height_cm product_width_cm  \\\n",
            "5307             967.0              37.0              23.0             27.0   \n",
            "13123            550.0              26.0               7.0             36.0   \n",
            "17781           4105.0              67.0              10.0             67.0   \n",
            "17952            900.0              26.0              26.0             26.0   \n",
            "18463            275.0              16.0              14.0             14.0   \n",
            "68227           1133.0              16.0              15.0             20.0   \n",
            "92070            275.0              16.0              14.0             14.0   \n",
            "\n",
            "      seller_zip_code_prefix           seller_city seller_state item_number  \\\n",
            "5307                  1552.0             sao paulo           SP           1   \n",
            "13123                13033.0              campinas           SP           1   \n",
            "17781                 7112.0             guarulhos           SP           1   \n",
            "17952                 5319.0             sao paulo           SP           1   \n",
            "18463                36407.0  conselheiro lafaiete           MG           1   \n",
            "68227                 8260.0             sao paulo           SP           1   \n",
            "92070                36407.0  conselheiro lafaiete           MG           1   \n",
            "\n",
            "       iprice totalprice  \n",
            "5307   204.62     204.62  \n",
            "13123   54.97      54.97  \n",
            "17781  134.83     134.83  \n",
            "17952  194.00     194.00  \n",
            "18463  158.07     158.07  \n",
            "68227  120.12     120.12  \n",
            "92070  158.07     158.07  \n",
            "\n",
            "[7 rows x 40 columns]\n",
            "                               order_id  order_item_id  payment_value  \\\n",
            "10083  1950d777989f6a877539f53795b4c3c3            1.0          44.09   \n",
            "17456  2c45c33d2f9cb8ff8b1c86cc28c11c30            1.0         153.51   \n",
            "40512  65d1e226dfaeb8cdc42f665422522d14            1.0          35.61   \n",
            "47319  770d331c84e5b214bd9dc70a10b829d0            1.0         263.93   \n",
            "55565  8beb59392e21af5eb9547ae1a9938d06            1.0         111.22   \n",
            "87311  dabf2b0e35b423f94618bf965fcb7514            1.0         140.22   \n",
            "87312  dabf2b0e35b423f94618bf965fcb7514            2.0         140.22   \n",
            "\n",
            "                              review_id review_score review_comment_title  \\\n",
            "10083  2c6741d2b72eb45a9ef713560f5eccf7            3                 None   \n",
            "17456  7d02f4eb2feb119b854edcbabe18a44f            1                 None   \n",
            "40512  f9fe37d91c506b29a0b4d9107f667bde            1                 None   \n",
            "47319  9399c464901dcf9d6a40e6dde8ebdf59            1                 None   \n",
            "55565  b28309e8253951a954123e039d3242f7            1                 None   \n",
            "87311  28112c56c882286e0b235173e84c5370            5                 None   \n",
            "87312  28112c56c882286e0b235173e84c5370            5                 None   \n",
            "\n",
            "                                  review_comment_message review_creation_date  \\\n",
            "10083  O produto não foi enviado, porque eu errei ao ...  2018-03-11 00:00:00   \n",
            "17456  consta que meu pedido foi entregue mas nao che...  2016-11-10 00:00:00   \n",
            "40512  O produto foi comprado em 10/10/2016, não cheg...  2016-11-09 00:00:00   \n",
            "47319                       o produto é falso, ridiculo!  2016-12-01 00:00:00   \n",
            "55565  Produto não foi entregue. Não foi enviada nota...  2016-10-20 00:00:00   \n",
            "87311  Compraria novamente pq cumprem com o prazo de ...  2016-10-19 00:00:00   \n",
            "87312  Compraria novamente pq cumprem com o prazo de ...  2016-10-19 00:00:00   \n",
            "\n",
            "      review_answer_timestamp                       customer_id  ...  \\\n",
            "10083     2018-03-11 04:00:00  1bccb206de9f0f25adc6871a1bcf77b2  ...   \n",
            "17456     2016-11-16 20:44:00  de4caa97afa80c8eeac2ff4c8da5b72e  ...   \n",
            "40512     2016-11-09 21:04:00  70fc57eeae292675927697fe03ad3ff5  ...   \n",
            "47319     2016-12-19 20:08:00  6c57e6119369185e575b36712766b0ef  ...   \n",
            "55565     2016-10-24 17:18:00  bf609b5741f71697f65ce3852c5d2623  ...   \n",
            "87311     2016-10-19 20:43:00  5cdec0bb8cbdf53ffc8fdc212cd247c6  ...   \n",
            "87312     2016-10-19 20:43:00  5cdec0bb8cbdf53ffc8fdc212cd247c6  ...   \n",
            "\n",
            "      product_weight_g product_length_cm product_height_cm product_width_cm  \\\n",
            "10083            440.0              20.0              11.0             17.0   \n",
            "17456           2250.0              22.0              15.0             20.0   \n",
            "40512            476.0              17.0              14.0             14.0   \n",
            "47319            610.0              22.0              14.0             16.0   \n",
            "55565           2100.0              22.0              50.0             32.0   \n",
            "87311            100.0              20.0              20.0             20.0   \n",
            "87312           1029.0              20.0              15.0             17.0   \n",
            "\n",
            "      seller_zip_code_prefix     seller_city seller_state item_number  iprice  \\\n",
            "10083                 9175.0     santo andre           SP           1   44.09   \n",
            "17456                37410.0   tres coracoes           MG           1  153.51   \n",
            "40512                 5571.0       sao paulo           SP           1   35.61   \n",
            "47319                25645.0      petropolis           RJ           1  263.93   \n",
            "55565                22240.0  rio de janeiro           RJ           1  111.22   \n",
            "87311                25645.0      petropolis           RJ           1   60.38   \n",
            "87312                25645.0      petropolis           RJ           1   79.84   \n",
            "\n",
            "      totalprice  \n",
            "10083      44.09  \n",
            "17456     153.51  \n",
            "40512      35.61  \n",
            "47319     263.93  \n",
            "55565     111.22  \n",
            "87311     140.22  \n",
            "87312     140.22  \n",
            "\n",
            "[7 rows x 40 columns]\n"
          ]
        }
      ]
    },
    {
      "cell_type": "code",
      "source": [
        "# Check if review creation date later than review answer date:\n",
        "reviewwrong = df[df['review_creation_date'] > df['review_answer_timestamp']]     #0 row\n",
        "print(reviewwrong)"
      ],
      "metadata": {
        "colab": {
          "base_uri": "https://localhost:8080/"
        },
        "collapsed": true,
        "id": "cHVnEWY6MLqg",
        "outputId": "0d1143fe-68ff-45a4-e863-8151187b916b"
      },
      "execution_count": null,
      "outputs": [
        {
          "output_type": "stream",
          "name": "stdout",
          "text": [
            "Empty DataFrame\n",
            "Columns: [order_id, order_item_id, payment_value, review_id, review_score, review_comment_title, review_comment_message, review_creation_date, review_answer_timestamp, customer_id, order_status, order_purchase_timestamp, order_approved_at, order_delivered_carrier_date, order_delivered_customer_date, order_estimated_delivery_date, payment_installments, customer_unique_id, customer_zip_code_prefix, customer_city, customer_state, product_id, seller_id, shipping_limit_date, price, freight_value, product_category_name, product_name_lenght, product_description_lenght, product_photos_qty, product_weight_g, product_length_cm, product_height_cm, product_width_cm, seller_zip_code_prefix, seller_city, seller_state, item_number, iprice, totalprice]\n",
            "Index: []\n",
            "\n",
            "[0 rows x 40 columns]\n"
          ]
        }
      ]
    },
    {
      "cell_type": "code",
      "source": [
        "# Check if purchase date later than approved date and if approved date later than order post date\n",
        "paytimewrong = df[df['order_purchase_timestamp'] > df['order_approved_at']]        #0 row\n",
        "posttimewrong=df[df['order_approved_at'] > df['order_delivered_carrier_date']]     #1276 rows\n",
        "print(paytimewrong)\n",
        "print(posttimewrong)"
      ],
      "metadata": {
        "colab": {
          "base_uri": "https://localhost:8080/"
        },
        "collapsed": true,
        "id": "-_4ptEJxMNQN",
        "outputId": "32e4b0cc-8fb0-4b8d-fffb-f4b503fa7bac"
      },
      "execution_count": null,
      "outputs": [
        {
          "output_type": "stream",
          "name": "stdout",
          "text": [
            "Empty DataFrame\n",
            "Columns: [order_id, order_item_id, payment_value, review_id, review_score, review_comment_title, review_comment_message, review_creation_date, review_answer_timestamp, customer_id, order_status, order_purchase_timestamp, order_approved_at, order_delivered_carrier_date, order_delivered_customer_date, order_estimated_delivery_date, payment_installments, customer_unique_id, customer_zip_code_prefix, customer_city, customer_state, product_id, seller_id, shipping_limit_date, price, freight_value, product_category_name, product_name_lenght, product_description_lenght, product_photos_qty, product_weight_g, product_length_cm, product_height_cm, product_width_cm, seller_zip_code_prefix, seller_city, seller_state, item_number, iprice, totalprice]\n",
            "Index: []\n",
            "\n",
            "[0 rows x 40 columns]\n",
            "                                order_id  order_item_id  payment_value  \\\n",
            "7       000576fe39319847cbb9d288c5617fa6            1.0         880.75   \n",
            "47      002175704e8b209f61b9ad5cfd92b60e            1.0         123.11   \n",
            "56      002834535f7a609a5c68266f173fa59e            1.0          57.17   \n",
            "100     004345d16a1ab2c21962992c721c8643            1.0          53.27   \n",
            "247     00b4c651133c06fb175123a492f1cac3            1.0         173.49   \n",
            "...                                  ...            ...            ...   \n",
            "101901  ff8fa4002efe1dc72ea0343487e7b6c6            1.0          46.84   \n",
            "101979  ffc0249fed109d5d056d7c79b7fa7dd9            1.0          32.43   \n",
            "101998  ffcc17a2f3331d4d25cf692060921690            1.0         103.36   \n",
            "102050  fff0db5573c78c1cb5a2b68a2bbd8d4a            1.0          77.70   \n",
            "102058  fff8286f77788ab8b55b2e5747fa7dd8            1.0          40.27   \n",
            "\n",
            "                               review_id review_score review_comment_title  \\\n",
            "7       f0733ebeb51b637dfdc953983c867b89            5                 None   \n",
            "47      78412bf6c796b43df999fd87750d28ea            4            Recomendo   \n",
            "56      35f26611c00c2632ba92df91ef05229e            5                 None   \n",
            "100     7f05ffaf413a01b93e9cbe3e527a91ab            5                 Bom.   \n",
            "247     28838057a89892189cccbde97e7d80ca            4                 None   \n",
            "...                                  ...          ...                  ...   \n",
            "101901  3da31ce9798343eae8eef79aac6f3475            5                 None   \n",
            "101979  c1384ad3832f254f4a9987af9b38a5de            5                 None   \n",
            "101998  1433cc1c36ba9eb2996e1b8e9b5546bb            5                 None   \n",
            "102050  7c689f84c1fa0f0f12be33203ba6b21d            2                 None   \n",
            "102058  04be5443ee0904052de26dcaaf90dff9            4                 None   \n",
            "\n",
            "                                   review_comment_message  \\\n",
            "7                                                    None   \n",
            "47      Produto como descrito. Mas não gostei pq o som...   \n",
            "56                                                   None   \n",
            "100                      Recebi tudo certinho, recomendo.   \n",
            "247                                 Entrega muito rápida.   \n",
            "...                                                   ...   \n",
            "101901                                               None   \n",
            "101979                                               None   \n",
            "101998                                               None   \n",
            "102050                                               None   \n",
            "102058                                               None   \n",
            "\n",
            "       review_creation_date review_answer_timestamp  \\\n",
            "7       2018-07-10 00:00:00     2018-07-11 20:14:00   \n",
            "47      2018-05-03 00:00:00     2018-05-06 13:42:00   \n",
            "56      2018-08-11 00:00:00     2018-08-13 11:34:00   \n",
            "100     2018-07-12 00:00:00     2018-07-12 20:59:00   \n",
            "247     2018-08-24 00:00:00     2018-08-26 18:41:00   \n",
            "...                     ...                     ...   \n",
            "101901  2018-02-07 00:00:00     2018-02-09 17:12:00   \n",
            "101979  2018-08-15 00:00:00     2018-08-16 11:13:00   \n",
            "101998  2018-07-03 00:00:00     2018-07-03 17:39:00   \n",
            "102050  2018-06-29 00:00:00     2018-06-30 15:56:00   \n",
            "102058  2018-07-07 00:00:00     2018-07-10 16:11:00   \n",
            "\n",
            "                             customer_id  ... product_weight_g  \\\n",
            "7       9ed5e522dd9dd85b4af4a077526d8117  ...          13805.0   \n",
            "47      a562db3c7cb9a68947debd30879b491e  ...            588.0   \n",
            "56      89a6b1bfbe1b366503995b8df4c49450  ...            300.0   \n",
            "100     3b723b649feb48f3cfbb9c728efb3d7d  ...            525.0   \n",
            "247     965cef866a59a3cd6d1e92ba0ad2c779  ...            100.0   \n",
            "...                                  ...  ...              ...   \n",
            "101901  69dd0c30532e05224630ad7cf9f10446  ...            550.0   \n",
            "101979  fe259b2c6d1b0081cf8d8c83e83437c8  ...            150.0   \n",
            "101998  bf75820404561a3f35085c58a99a63fd  ...           2550.0   \n",
            "102050  57343e0c5ed32cb5a60d261fb66f7f35  ...            150.0   \n",
            "102058  e79f494063c25f5c673222d8a2cc6f47  ...            350.0   \n",
            "\n",
            "       product_length_cm product_height_cm product_width_cm  \\\n",
            "7                   35.0              75.0             45.0   \n",
            "47                  19.0              14.0             17.0   \n",
            "56                  17.0               4.0             12.0   \n",
            "100                 18.0              19.0             16.0   \n",
            "247                 17.0               9.0             14.0   \n",
            "...                  ...               ...              ...   \n",
            "101901              16.0              10.0             16.0   \n",
            "101979              16.0               6.0             14.0   \n",
            "101998              24.0              23.0             27.0   \n",
            "102050              18.0               6.0             13.0   \n",
            "102058              17.0               4.0             12.0   \n",
            "\n",
            "       seller_zip_code_prefix          seller_city seller_state item_number  \\\n",
            "7                     19010.0  presidente prudente           SP           1   \n",
            "47                     3470.0            sao paulo           SP           1   \n",
            "56                     4160.0            sao paulo           SP           1   \n",
            "100                    4461.0            sao paulo           SP           1   \n",
            "247                   75123.0             anapolis           GO           1   \n",
            "...                       ...                  ...          ...         ...   \n",
            "101901                14940.0             ibitinga           SP           1   \n",
            "101979                 7183.0            guarulhos           SP           1   \n",
            "101998                30111.0       belo horizonte           MG           1   \n",
            "102050                 1541.0            sao paulo           SP           1   \n",
            "102058                 4160.0            sao paulo           SP           1   \n",
            "\n",
            "        iprice totalprice  \n",
            "7       880.75     880.75  \n",
            "47      123.11     123.11  \n",
            "56       57.17      57.17  \n",
            "100      53.27      53.27  \n",
            "247     173.49     173.49  \n",
            "...        ...        ...  \n",
            "101901   46.84      46.84  \n",
            "101979   32.43      32.43  \n",
            "101998  103.36     103.36  \n",
            "102050   77.70      77.70  \n",
            "102058   40.27      40.27  \n",
            "\n",
            "[1276 rows x 40 columns]\n"
          ]
        }
      ]
    },
    {
      "cell_type": "code",
      "source": [
        "# Check if post date later than estimated date\n",
        "estimatetimewrong=df[df['order_delivered_carrier_date'] > df['order_estimated_delivery_date']] #436 rows\n",
        "print(estimatetimewrong)\n",
        "\n",
        "\n",
        "deliveredtimewrong=df[df['order_delivered_carrier_date'] > df['order_delivered_customer_date']] #35 rows\n",
        "print(deliveredtimewrong)"
      ],
      "metadata": {
        "colab": {
          "base_uri": "https://localhost:8080/"
        },
        "collapsed": true,
        "id": "jEjM6AcgMO7M",
        "outputId": "0d9d71c6-092a-4354-c304-066a7acf71da"
      },
      "execution_count": null,
      "outputs": [
        {
          "output_type": "stream",
          "name": "stdout",
          "text": [
            "                                order_id  order_item_id  payment_value  \\\n",
            "41      001d8f0e34a38c37f7dba2a37d4eba8b            1.0          53.54   \n",
            "194     009742b43f4530bc3db7f62332c50f4b            1.0         146.18   \n",
            "271     00c00d5b36157595e21108ba1da2828f            1.0         312.92   \n",
            "320     00e054d0da011d5016f31011af488f4f            1.0         118.82   \n",
            "879     024a74550cdbd36c0fe3955fc9e2bcf0            1.0          35.45   \n",
            "...                                  ...            ...            ...   \n",
            "100978  fd2abbf4e0f632ba709f0059c02da633            1.0          36.45   \n",
            "101308  fe0105a4696c7d31837cb3130fe9c4b1            1.0         103.55   \n",
            "101355  fe225fc0702b1d46a931e88d60c7be25            1.0          66.14   \n",
            "101435  fe58b25c8ebdc65c3d4cb34070bf9e5d            1.0          69.03   \n",
            "101820  ff49f52e3e1a9422bc1899208d5b8591            1.0          32.68   \n",
            "\n",
            "                               review_id review_score review_comment_title  \\\n",
            "41      51ebb8fede4fbe6126f9f85ebdd23166            1                 None   \n",
            "194     8c6563bdac7a42e6ea3dec7b12e8454b            2                 None   \n",
            "271     d52c07a72b990d85dfaf30cc90bbd053            1                 None   \n",
            "320     f7a702f98546f133f23a5922c7c1be20            4                 None   \n",
            "879     b1c83abc115ddb8ecfd76f17d35c3c92            4              Produto   \n",
            "...                                  ...          ...                  ...   \n",
            "100978  25fd9ec16acfd2a6748abdb224e6e0c4            1                 None   \n",
            "101308  0e2d8346a3c5dfe4848b19bf140c251d            1                 None   \n",
            "101355  a6bb7baaec5dc34dddf2930b2333b972            4                 None   \n",
            "101435  6ab0f7295f3bbef46de7e877f343e8ff            1                 None   \n",
            "101820  145a64d816f18d8d575e012cb782bf76            1                 None   \n",
            "\n",
            "                                   review_comment_message  \\\n",
            "41      Entrega prometida 24/05/17. Dia 26/05/17 não h...   \n",
            "194                                                  None   \n",
            "271                                                  None   \n",
            "320                                                  None   \n",
            "879     A capa carteira veio correto,mas a película de...   \n",
            "...                                                   ...   \n",
            "100978                                               None   \n",
            "101308  Não gostei muito ruim não compro mais nessa loja.   \n",
            "101355                                               None   \n",
            "101435  Achei que por comprar em loja parceira dentro ...   \n",
            "101820                        Quero meu dinheiro de volta   \n",
            "\n",
            "       review_creation_date review_answer_timestamp  \\\n",
            "41      2017-05-26 00:00:00     2017-05-26 20:19:00   \n",
            "194     2017-11-16 00:00:00     2017-11-16 10:29:00   \n",
            "271     2017-10-01 00:00:00     2017-10-01 08:54:00   \n",
            "320     2018-04-07 00:00:00     2018-04-09 03:06:00   \n",
            "879     2018-08-16 00:00:00     2018-08-16 12:07:00   \n",
            "...                     ...                     ...   \n",
            "100978  2018-08-15 00:00:00     2018-08-15 16:36:00   \n",
            "101308  2018-03-21 00:00:00     2018-03-21 10:29:00   \n",
            "101355  2018-08-30 00:00:00     2018-09-05 15:12:00   \n",
            "101435  2018-03-14 00:00:00     2018-03-17 20:34:00   \n",
            "101820  2018-02-02 00:00:00     2018-02-04 15:30:00   \n",
            "\n",
            "                             customer_id  ... product_weight_g  \\\n",
            "41      d987da9fb4086ab7c2c0f83963cd6722  ...            150.0   \n",
            "194     84dac31647902f79570207a7f29c2675  ...            548.0   \n",
            "271     2b27fae969b7d2bc173e466a742e50c6  ...           2550.0   \n",
            "320     fe43b2f349c9ab46883ce0e02491432c  ...           1100.0   \n",
            "879     5837b288ad076175ff451a905d6153f9  ...            250.0   \n",
            "...                                  ...  ...              ...   \n",
            "100978  a464b0eca19ee9d50c583227d90941dc  ...            150.0   \n",
            "101308  d370a0c04adf10949536f4c5a5dd0117  ...           1500.0   \n",
            "101355  c90e1fc62717b61b9e82c4ae6f32bb2d  ...            950.0   \n",
            "101435  d70a4c877dba1679f5c7ded688e39609  ...            100.0   \n",
            "101820  2cc8c877ddc07e711634edb883c9a5f7  ...            150.0   \n",
            "\n",
            "       product_length_cm product_height_cm product_width_cm  \\\n",
            "41                  43.0              13.0             14.0   \n",
            "194                 20.0              10.0             16.0   \n",
            "271                 42.0              17.0             32.0   \n",
            "320                 22.0              27.0             22.0   \n",
            "879                 17.0               4.0             12.0   \n",
            "...                  ...               ...              ...   \n",
            "100978              17.0              13.0             13.0   \n",
            "101308              40.0              25.0             20.0   \n",
            "101355              35.0              18.0             12.0   \n",
            "101435              17.0               5.0             12.0   \n",
            "101820              16.0               5.0             17.0   \n",
            "\n",
            "       seller_zip_code_prefix    seller_city seller_state item_number  iprice  \\\n",
            "41                     1031.0      sao paulo           SP           2   53.54   \n",
            "194                   14085.0  riberao preto           SP           1  146.18   \n",
            "271                   14940.0       ibitinga           SP           2  312.92   \n",
            "320                   14580.0          guara           SP           1  118.82   \n",
            "879                    4160.0      sao paulo           SP           1   35.45   \n",
            "...                       ...            ...          ...         ...     ...   \n",
            "100978                12940.0        atibaia           SP           1   36.45   \n",
            "101308                 3017.0      sao paulo           SP           1  103.55   \n",
            "101355                 2310.0      sao paulo           SP           1   66.14   \n",
            "101435                 8223.0      sao paulo           SP           1   69.03   \n",
            "101820                 3910.0      sao paulo           SP           1   32.68   \n",
            "\n",
            "       totalprice  \n",
            "41          53.54  \n",
            "194        146.18  \n",
            "271        312.92  \n",
            "320        118.82  \n",
            "879         35.45  \n",
            "...           ...  \n",
            "100978      36.45  \n",
            "101308     103.55  \n",
            "101355      66.14  \n",
            "101435      69.03  \n",
            "101820      32.68  \n",
            "\n",
            "[436 rows x 40 columns]\n",
            "                                order_id  order_item_id  payment_value  \\\n",
            "3690    0922ee1619de7b995648e5a8407afb91            1.0         249.09   \n",
            "3691    0922ee1619de7b995648e5a8407afb91            2.0         249.09   \n",
            "10342   19feb5627c41ea1b36a8e50a469b3644            1.0         212.32   \n",
            "11500   1cc3ae63caffff2d6c3ee3e78e074acf            1.0         151.46   \n",
            "11501   1cc3ae63caffff2d6c3ee3e78e074acf            2.0         151.46   \n",
            "16420   29941903985f944b0ffc49c479c1547d            1.0         320.79   \n",
            "16421   29941903985f944b0ffc49c479c1547d            2.0         320.79   \n",
            "22366   383aa8b2724fe452d9ccd9934a8c628b            1.0         111.24   \n",
            "22367   383aa8b2724fe452d9ccd9934a8c628b            2.0         111.24   \n",
            "37991   5f9d46795c3126674e52becb3a1a517f            1.0         223.69   \n",
            "37992   5f9d46795c3126674e52becb3a1a517f            2.0         223.69   \n",
            "47032   76458889992169d3135b264dc13aec67            1.0          85.58   \n",
            "47343   771c4f1f521f462e4b95619e648aaeab            1.0         114.07   \n",
            "47344   771c4f1f521f462e4b95619e648aaeab            2.0         114.07   \n",
            "55771   8c78d01de3a9009e23d6877a7cc9be20            1.0         249.72   \n",
            "55772   8c78d01de3a9009e23d6877a7cc9be20            2.0         249.72   \n",
            "64192   a1abeb653a4d4cd1e142ccb8c82cd069            1.0         304.56   \n",
            "64193   a1abeb653a4d4cd1e142ccb8c82cd069            2.0         304.56   \n",
            "71114   b27af682321527a6349f1761eb3f360c            1.0         179.13   \n",
            "71115   b27af682321527a6349f1761eb3f360c            2.0         179.13   \n",
            "73555   b866af202be0692766081310cd4085e1            1.0         206.65   \n",
            "73556   b866af202be0692766081310cd4085e1            2.0         206.65   \n",
            "80987   cb1134f9010d242e9515ad1c78ec0c39            1.0         140.06   \n",
            "80988   cb1134f9010d242e9515ad1c78ec0c39            2.0         140.06   \n",
            "85251   d5558a097766363b8e76b38c43332e8a            1.0         129.11   \n",
            "85252   d5558a097766363b8e76b38c43332e8a            2.0         129.11   \n",
            "90888   e37f11cae9985ca58f0b56f268720537            1.0         220.86   \n",
            "90889   e37f11cae9985ca58f0b56f268720537            2.0         220.86   \n",
            "93365   ea1dcb4757a844d2642547797bd5feb0            1.0         187.59   \n",
            "93366   ea1dcb4757a844d2642547797bd5feb0            2.0         187.59   \n",
            "98261   f688669f48063536e082bb32d634cd46            1.0         111.22   \n",
            "99781   fa3e37584f4fdb1ded0e0de700dfcb4e            1.0         111.21   \n",
            "99782   fa3e37584f4fdb1ded0e0de700dfcb4e            2.0         111.21   \n",
            "100493  fbffbaaa30f4077e87ec6acdb835b278            1.0         129.68   \n",
            "100494  fbffbaaa30f4077e87ec6acdb835b278            2.0         129.68   \n",
            "\n",
            "                               review_id review_score review_comment_title  \\\n",
            "3690    af64e6ad98a3979e11c42f322e1b7a67            1                 None   \n",
            "3691    af64e6ad98a3979e11c42f322e1b7a67            1                 None   \n",
            "10342   fe431acef2f3b418c8ca197bc862104c            5                 None   \n",
            "11500   361098c18332d700c065f62534d2e768            2                 None   \n",
            "11501   361098c18332d700c065f62534d2e768            2                 None   \n",
            "16420   76aa27e160c6ce1ac86cb2ae75a66d9d            5                 None   \n",
            "16421   76aa27e160c6ce1ac86cb2ae75a66d9d            5                 None   \n",
            "22366   78d8077c10c6b377650a5dd2de99033d            1                 None   \n",
            "22367   78d8077c10c6b377650a5dd2de99033d            1                 None   \n",
            "37991   b2e9e3d39afa649c8c6457d26e1d67fe            1                 None   \n",
            "37992   b2e9e3d39afa649c8c6457d26e1d67fe            1                 None   \n",
            "47032   b5db92e4cce815ba464fb5fe3733cde8            5                 None   \n",
            "47343   3d21c7adfde003d678005546c499f2c0            1                 None   \n",
            "47344   3d21c7adfde003d678005546c499f2c0            1                 None   \n",
            "55771   4fb086c542bb7e4ec510a3463c1657b7            3                 None   \n",
            "55772   4fb086c542bb7e4ec510a3463c1657b7            3                 None   \n",
            "64192   f02d53807b5139530efbbcff78e224d5            3                 None   \n",
            "64193   f02d53807b5139530efbbcff78e224d5            3                 None   \n",
            "71114   56401a6e3bf67b453d3e19309fa0b051            1                 None   \n",
            "71115   56401a6e3bf67b453d3e19309fa0b051            1                 None   \n",
            "73555   6f3ae5a43a1ce5f0c23a640be902525c            4                 None   \n",
            "73556   6f3ae5a43a1ce5f0c23a640be902525c            4                 None   \n",
            "80987   5bb72b5c6644e0372d8df57db897594d            3                 None   \n",
            "80988   5bb72b5c6644e0372d8df57db897594d            3                 None   \n",
            "85251   c16e56b93a73482b1961e460b1a9fcd6            2                 None   \n",
            "85252   c16e56b93a73482b1961e460b1a9fcd6            2                 None   \n",
            "90888   176220ab7ec98bea47b8c751cdad6c18            5                 None   \n",
            "90889   176220ab7ec98bea47b8c751cdad6c18            5                 None   \n",
            "93365   f65f6710662c2733e0a2a0e37fe52a40            1                 None   \n",
            "93366   f65f6710662c2733e0a2a0e37fe52a40            1                 None   \n",
            "98261   b8ee78b3ced2f119b89b611a0efdba7b            1                 None   \n",
            "99781   fe8a6e81d937e496c951e7076489a8f2            4                 None   \n",
            "99782   fe8a6e81d937e496c951e7076489a8f2            4                 None   \n",
            "100493  df2bcdb9c1b8b569a88bb1f85b58d8e6            4                 None   \n",
            "100494  df2bcdb9c1b8b569a88bb1f85b58d8e6            4                 None   \n",
            "\n",
            "                                   review_comment_message  \\\n",
            "3690    Recebi apenas a rede, não foi enviado os ganch...   \n",
            "3691    Recebi apenas a rede, não foi enviado os ganch...   \n",
            "10342                                                None   \n",
            "11500          Só tem muito frete né poderia ser menos kk   \n",
            "11501          Só tem muito frete né poderia ser menos kk   \n",
            "16420                                                None   \n",
            "16421                                                None   \n",
            "22366                                                None   \n",
            "22367                                                None   \n",
            "37991   Por enquanto chegou só um produto, e de cor er...   \n",
            "37992   Por enquanto chegou só um produto, e de cor er...   \n",
            "47032                                                None   \n",
            "47343   Falta a entrega da Cúpula para abajur modelo t...   \n",
            "47344   Falta a entrega da Cúpula para abajur modelo t...   \n",
            "55771   Ainda faltam me entrega um produto ,quando che...   \n",
            "55772   Ainda faltam me entrega um produto ,quando che...   \n",
            "64192                                  Foi bom, obrigado.   \n",
            "64193                                  Foi bom, obrigado.   \n",
            "71114                                                None   \n",
            "71115                                                None   \n",
            "73555   A entrega foi rápida, porém a tampa de uma pan...   \n",
            "73556   A entrega foi rápida, porém a tampa de uma pan...   \n",
            "80987   Foi entregue apenas as almofadas , a miniatura...   \n",
            "80988   Foi entregue apenas as almofadas , a miniatura...   \n",
            "85251   dos produtos acima citados so recebi o champoo...   \n",
            "85252   dos produtos acima citados so recebi o champoo...   \n",
            "90888                                                None   \n",
            "90889                                                None   \n",
            "93365                                                None   \n",
            "93366                                                None   \n",
            "98261   Meu pedido consta como entregue, mas na verdad...   \n",
            "99781                                                None   \n",
            "99782                                                None   \n",
            "100493                                         reocomendo   \n",
            "100494                                         reocomendo   \n",
            "\n",
            "       review_creation_date review_answer_timestamp  \\\n",
            "3690    2017-07-13 00:00:00     2017-07-14 11:25:00   \n",
            "3691    2017-07-13 00:00:00     2017-07-14 11:25:00   \n",
            "10342   2016-10-22 00:00:00     2016-10-25 12:53:00   \n",
            "11500   2017-08-11 00:00:00     2017-08-14 01:03:00   \n",
            "11501   2017-08-11 00:00:00     2017-08-14 01:03:00   \n",
            "16420   2017-06-03 00:00:00     2017-06-07 14:06:00   \n",
            "16421   2017-06-03 00:00:00     2017-06-07 14:06:00   \n",
            "22366   2017-07-07 00:00:00     2017-07-11 01:31:00   \n",
            "22367   2017-07-07 00:00:00     2017-07-11 01:31:00   \n",
            "37991   2017-07-21 00:00:00     2017-07-22 13:16:00   \n",
            "37992   2017-07-21 00:00:00     2017-07-22 13:16:00   \n",
            "47032   2016-10-22 00:00:00     2016-10-25 11:53:00   \n",
            "47343   2017-03-29 00:00:00     2017-03-30 01:32:00   \n",
            "47344   2017-03-29 00:00:00     2017-03-30 01:32:00   \n",
            "55771   2016-10-22 00:00:00     2016-10-22 20:04:00   \n",
            "55772   2016-10-22 00:00:00     2016-10-22 20:04:00   \n",
            "64192   2017-07-26 00:00:00     2017-08-02 13:09:00   \n",
            "64193   2017-07-26 00:00:00     2017-08-02 13:09:00   \n",
            "71114   2017-06-27 00:00:00     2017-06-28 10:53:00   \n",
            "71115   2017-06-27 00:00:00     2017-06-28 10:53:00   \n",
            "73555   2017-02-04 00:00:00     2017-02-06 13:28:00   \n",
            "73556   2017-02-04 00:00:00     2017-02-06 13:28:00   \n",
            "80987   2017-07-20 00:00:00     2017-07-24 13:52:00   \n",
            "80988   2017-07-20 00:00:00     2017-07-24 13:52:00   \n",
            "85251   2017-02-11 00:00:00     2017-02-15 16:07:00   \n",
            "85252   2017-02-11 00:00:00     2017-02-15 16:07:00   \n",
            "90888   2017-08-01 00:00:00     2017-08-04 10:14:00   \n",
            "90889   2017-08-01 00:00:00     2017-08-04 10:14:00   \n",
            "93365   2017-07-26 00:00:00     2017-07-27 14:31:00   \n",
            "93366   2017-07-26 00:00:00     2017-07-27 14:31:00   \n",
            "98261   2016-10-22 00:00:00     2016-10-26 11:21:00   \n",
            "99781   2017-08-02 00:00:00     2017-08-13 08:48:00   \n",
            "99782   2017-08-02 00:00:00     2017-08-13 08:48:00   \n",
            "100493  2017-08-04 00:00:00     2017-10-03 23:48:00   \n",
            "100494  2017-08-04 00:00:00     2017-10-03 23:48:00   \n",
            "\n",
            "                             customer_id  ... product_weight_g  \\\n",
            "3690    8dab637615e9eae6d33ef5e48644d6d3  ...           3300.0   \n",
            "3691    8dab637615e9eae6d33ef5e48644d6d3  ...            650.0   \n",
            "10342   b8097c8f0c1f58ab56a53812a446a898  ...           2000.0   \n",
            "11500   01c843a2c0600def0b7693dba47af460  ...           1238.0   \n",
            "11501   01c843a2c0600def0b7693dba47af460  ...           2100.0   \n",
            "16420   b56ee98181afc3948a758d73a08423de  ...            100.0   \n",
            "16421   b56ee98181afc3948a758d73a08423de  ...           1037.0   \n",
            "22366   b1cb2f9d7a19480f3749e248db14d58f  ...            800.0   \n",
            "22367   b1cb2f9d7a19480f3749e248db14d58f  ...           1100.0   \n",
            "37991   79287bcaafdde5c793b996fc40bb7d9f  ...          17100.0   \n",
            "37992   79287bcaafdde5c793b996fc40bb7d9f  ...           1600.0   \n",
            "47032   999196dca58a3db3d966d8f148532010  ...           1100.0   \n",
            "47343   d424b3ce4c850247e8c84ff8752de868  ...           1700.0   \n",
            "47344   d424b3ce4c850247e8c84ff8752de868  ...           2000.0   \n",
            "55771   6cd7106899e59a1fbd0622d5f1efedf4  ...           1100.0   \n",
            "55772   6cd7106899e59a1fbd0622d5f1efedf4  ...           3800.0   \n",
            "64192   5f50465da00b7fed5dd1239f4ecf6e2c  ...          10250.0   \n",
            "64193   5f50465da00b7fed5dd1239f4ecf6e2c  ...          13350.0   \n",
            "71114   9859dd92e872dbaa60ca3cd5f0d7ad07  ...            600.0   \n",
            "71115   9859dd92e872dbaa60ca3cd5f0d7ad07  ...            733.0   \n",
            "73555   d1800078046ed2e5ae1b0792b695c56e  ...            900.0   \n",
            "73556   d1800078046ed2e5ae1b0792b695c56e  ...           1200.0   \n",
            "80987   2fd33ac77677bd214b1882868317eeed  ...            400.0   \n",
            "80988   2fd33ac77677bd214b1882868317eeed  ...            300.0   \n",
            "85251   49a4fe701c3d30eac6c180908e665ebb  ...            513.0   \n",
            "85252   49a4fe701c3d30eac6c180908e665ebb  ...            600.0   \n",
            "90888   3947a361301f2ff0f3223159a0f2701c  ...            500.0   \n",
            "90889   3947a361301f2ff0f3223159a0f2701c  ...           4800.0   \n",
            "93365   4999e129610251dec1e6fb712dc15171  ...           1032.0   \n",
            "93366   4999e129610251dec1e6fb712dc15171  ...            100.0   \n",
            "98261   691d28310063e5b36b732b117f2bcfc0  ...           2100.0   \n",
            "99781   63be4feff10a0b1d85f2cfbf10df9754  ...            225.0   \n",
            "99782   63be4feff10a0b1d85f2cfbf10df9754  ...           1600.0   \n",
            "100493  a31e61974efff601345e65e5d6b7ff31  ...            150.0   \n",
            "100494  a31e61974efff601345e65e5d6b7ff31  ...            580.0   \n",
            "\n",
            "       product_length_cm product_height_cm product_width_cm  \\\n",
            "3690                50.0              15.0             40.0   \n",
            "3691                20.0              16.0             20.0   \n",
            "10342               35.0              15.0             25.0   \n",
            "11500               34.0              32.0             24.0   \n",
            "11501               23.0              40.0             16.0   \n",
            "16420               16.0              16.0             16.0   \n",
            "16421               25.0              24.0             20.0   \n",
            "22366               32.0               2.0             20.0   \n",
            "22367               32.0              11.0             27.0   \n",
            "37991               60.0              40.0             42.0   \n",
            "37992               40.0              17.0             40.0   \n",
            "47032               31.0              11.0             26.0   \n",
            "47343               23.0               7.0             23.0   \n",
            "47344               30.0              20.0             30.0   \n",
            "55771               31.0              11.0             26.0   \n",
            "55772               42.0              16.0             26.0   \n",
            "64192               36.0              47.0             36.0   \n",
            "64193               57.0              56.0             22.0   \n",
            "71114               35.0              36.0             20.0   \n",
            "71115               17.0              10.0             18.0   \n",
            "73555               36.0               6.0             26.0   \n",
            "73556               20.0              16.0             20.0   \n",
            "80987               50.0               3.0             25.0   \n",
            "80988               16.0              14.0             14.0   \n",
            "85251               23.0              27.0             21.0   \n",
            "85252               28.0              11.0             26.0   \n",
            "90888               16.0              18.0             16.0   \n",
            "90889               22.0              63.0             22.0   \n",
            "93365               17.0              15.0             16.0   \n",
            "93366               16.0               8.0             11.0   \n",
            "98261               22.0              50.0             32.0   \n",
            "99781               21.0               5.0             14.0   \n",
            "99782               25.0              25.0             25.0   \n",
            "100493              16.0              12.0             12.0   \n",
            "100494              20.0               9.0             19.0   \n",
            "\n",
            "       seller_zip_code_prefix            seller_city seller_state item_number  \\\n",
            "3690                   8550.0                    poa           SP           1   \n",
            "3691                   3431.0              sao paulo           SP           1   \n",
            "10342                 14940.0               ibitinga           SP           1   \n",
            "11500                 12940.0                atibaia           SP           1   \n",
            "11501                 18500.0      laranjal paulista           SP           1   \n",
            "16420                 91350.0           porto alegre           RS           1   \n",
            "16421                 14070.0         ribeirao preto           SP           1   \n",
            "22366                 36500.0                    uba           MG           1   \n",
            "22367                 37580.0             monte siao           MG           1   \n",
            "37991                  3471.0              sao paulo           SP           1   \n",
            "37992                  4001.0              sao paulo           SP           1   \n",
            "47032                 14940.0               ibitinga           SP           1   \n",
            "47343                 36500.0                    uba           MG           1   \n",
            "47344                 20910.0         rio de janeiro           RJ           1   \n",
            "55771                 14940.0               ibitinga           SP           1   \n",
            "55772                 14940.0               ibitinga           SP           1   \n",
            "64192                 13660.0         porto ferreira           SP           2   \n",
            "64193                  8577.0        itaquaquecetuba           SP           1   \n",
            "71114                 37006.0               varginha           MG           1   \n",
            "71115                 89041.0               blumenau           SC           1   \n",
            "73555                  9220.0            santo andre           SP           1   \n",
            "73556                  3168.0              sao paulo           SP           1   \n",
            "80987                 13457.0  santa barbara d'oeste           SP           1   \n",
            "80988                 85863.0          foz do iguacu           PR           1   \n",
            "85251                 19830.0               echapora           SP           1   \n",
            "85252                  1233.0              sao paulo           SP           1   \n",
            "90888                  2030.0              sao paulo           SP           6   \n",
            "90889                 13920.0               pedreira           SP           1   \n",
            "93365                 89160.0             rio do sul           SC           1   \n",
            "93366                 13566.0             sao carlos           SP           1   \n",
            "98261                 22240.0         rio de janeiro           RJ           1   \n",
            "99781                  2634.0              sao paulo           SP           1   \n",
            "99782                 13920.0               pedreira           SP           1   \n",
            "100493                17900.0                dracena           SP           1   \n",
            "100494                12327.0                jacarei           SP           1   \n",
            "\n",
            "        iprice totalprice  \n",
            "3690    178.20     249.09  \n",
            "3691     70.89     249.09  \n",
            "10342   212.32     212.32  \n",
            "11500    49.12     151.46  \n",
            "11501   102.34     151.46  \n",
            "16420   177.69     320.79  \n",
            "16421   143.10     320.79  \n",
            "22366    42.39     111.24  \n",
            "22367    68.85     111.24  \n",
            "37991   104.66     223.69  \n",
            "37992   119.03     223.69  \n",
            "47032    85.58      85.58  \n",
            "47343    65.04     114.07  \n",
            "47344    49.03     114.07  \n",
            "55771    66.70     249.72  \n",
            "55772   183.02     249.72  \n",
            "64192    59.96     304.55  \n",
            "64193   244.59     304.55  \n",
            "71114    99.83     179.13  \n",
            "71115    79.30     179.13  \n",
            "73555    38.29     206.65  \n",
            "73556   168.36     206.65  \n",
            "80987    60.30     140.06  \n",
            "80988    79.76     140.06  \n",
            "85251    82.75     129.11  \n",
            "85252    46.36     129.11  \n",
            "90888   161.52     220.85  \n",
            "90889    59.33     220.85  \n",
            "93365    78.60     187.59  \n",
            "93366   108.99     187.59  \n",
            "98261   111.22     111.22  \n",
            "99781    46.31     111.21  \n",
            "99782    64.90     111.21  \n",
            "100493   26.85     129.68  \n",
            "100494  102.83     129.68  \n",
            "\n",
            "[35 rows x 40 columns]\n"
          ]
        }
      ]
    },
    {
      "cell_type": "markdown",
      "source": [
        "### Validate Delivery Timings vs. Order Timestamps"
      ],
      "metadata": {
        "id": "YCqIcOlllOmb"
      }
    },
    {
      "cell_type": "code",
      "source": [
        "# Check if the order was shipped later than the allowed shipping deadline\n",
        "# These rows might indicate logistic issues or data errors\n",
        "shippinglimittimewrong=df[df['order_delivered_carrier_date'] > df['shipping_limit_date']]     # 8,214 rows\n",
        "\n",
        "# Check if delivery to the customer occurred before the official shipping limit date\n",
        "# This could suggest early deliveries or incorrect shipping limit entries\n",
        "shippinglimittimewrong2=df[(df['order_delivered_customer_date'].notna()) & (df['shipping_limit_date'] > df['order_delivered_customer_date'])\n",
        "] # 18,720 rows\n",
        "\n",
        "# Display mismatches for review\n",
        "print(shippinglimittimewrong)\n",
        "print(shippinglimittimewrong2)"
      ],
      "metadata": {
        "colab": {
          "base_uri": "https://localhost:8080/"
        },
        "collapsed": true,
        "id": "8w2ZyrONMP-G",
        "outputId": "1fb5457e-9856-4cbc-e0b7-f078a60d9a7b"
      },
      "execution_count": null,
      "outputs": [
        {
          "output_type": "stream",
          "name": "stdout",
          "text": [
            "                                order_id  order_item_id  payment_value  \\\n",
            "0       00010242fe8c5a6d1ba2dd792cb16214            1.0          72.19   \n",
            "1       00018f77f2f0320c557190d7a144bdd3            1.0         259.83   \n",
            "4       00042b26cf59d7ce69dfabb4e55b4fd9            1.0         218.04   \n",
            "8       0005a1a1728c9d785b8e2b08b904576c            1.0         157.60   \n",
            "32      0014ae671de39511f7575066200733b7            1.0          30.60   \n",
            "...                                  ...            ...            ...   \n",
            "102030  ffe49171e120186dcc4c444b55691810            1.0          76.85   \n",
            "102047  ffeeb911d070bea3dd20bd5fd01da5e8            1.0          95.69   \n",
            "102054  fff3983dfa3c5a0d752d8d17baa406a0            1.0          80.44   \n",
            "102065  fffb9224b6fc7c43ebb0904318b10b5f            1.0         356.76   \n",
            "102069  fffbee3b5462987e66fb49b1c5411df2            1.0         139.88   \n",
            "\n",
            "                               review_id review_score review_comment_title  \\\n",
            "0       97ca439bc427b48bc1cd7177abe71365            5                 None   \n",
            "1       7b07bacd811c4117b742569b04ce3580            4                 None   \n",
            "4       940144190dcba6351888cafa43f3a3a5            5                 None   \n",
            "8       67b1ab8f3ec19d5a90f153f21757d3a1            1                 None   \n",
            "32      81c4070474d420a77a2254b8a5473f6a            5                 None   \n",
            "...                                  ...          ...                  ...   \n",
            "102030  b7e38814867b73d61ebf64c2e5967a75            5                 None   \n",
            "102047  49c3df0bcbf2d73e888164aa215e55a4            5                 None   \n",
            "102054  8d9e9d54d74da0aac8ea7bceb754dd97            5                 None   \n",
            "102065  269edb5280ad1f999b5043c93cc4e845            4                 None   \n",
            "102069  a614fd24fbd8348db190dc720530e101            5                 None   \n",
            "\n",
            "                                   review_comment_message  \\\n",
            "0          Perfeito, produto entregue antes do combinado.   \n",
            "1                                                    None   \n",
            "4                 Gostei pois veio no prazo determinado .   \n",
            "8       Na descrição do produto quando fui efetuar a c...   \n",
            "32                                                   None   \n",
            "...                                                   ...   \n",
            "102030                                               None   \n",
            "102047                Adorei o produto ótimo e recomendo.   \n",
            "102054                                               None   \n",
            "102065                                               None   \n",
            "102069                                               None   \n",
            "\n",
            "       review_creation_date review_answer_timestamp  \\\n",
            "0       2017-09-21 00:00:00     2017-09-22 10:57:00   \n",
            "1       2017-05-13 00:00:00     2017-05-15 11:34:00   \n",
            "4       2017-03-02 00:00:00     2017-03-03 10:54:00   \n",
            "8       2018-03-30 00:00:00     2018-04-02 00:52:00   \n",
            "32      2017-06-08 00:00:00     2017-06-09 14:25:00   \n",
            "...                     ...                     ...   \n",
            "102030  2017-04-07 00:00:00     2017-04-09 13:11:00   \n",
            "102047  2017-10-26 00:00:00     2017-10-27 19:32:00   \n",
            "102054  2018-07-28 00:00:00     2018-07-30 16:20:00   \n",
            "102065  2017-11-18 00:00:00     2017-11-18 22:50:00   \n",
            "102069  2018-07-06 00:00:00     2018-07-09 10:41:00   \n",
            "\n",
            "                             customer_id  ... product_weight_g  \\\n",
            "0       3ce436f183e68e07877b285a838db11a  ...            650.0   \n",
            "1       f6dd3ec061db4e3987629fe6b26e5cce  ...          30000.0   \n",
            "4       58dbd0b2d70206bf40e62cd34e84d795  ...           3750.0   \n",
            "8       16150771dfd4776261284213b89c304e  ...           2000.0   \n",
            "32      41065d9dcea52218c3943d2eed072b97  ...            350.0   \n",
            "...                                  ...  ...              ...   \n",
            "102030  9be83b1a15980ed71eadb4dff917fa29  ...            700.0   \n",
            "102047  c580ed6ed2fe3533df6af1dcb43bac94  ...           2850.0   \n",
            "102054  46930ec4a8599d1436787e37f36161d9  ...            750.0   \n",
            "102065  4d3abb73ceb86353aeadbe698aa9d5cb  ...            350.0   \n",
            "102069  11a0e041ea6e7e21856d2689b64e7f3a  ...           1050.0   \n",
            "\n",
            "       product_length_cm product_height_cm product_width_cm  \\\n",
            "0                   28.0               9.0             14.0   \n",
            "1                   50.0              30.0             40.0   \n",
            "4                   35.0              40.0             30.0   \n",
            "8                   30.0              12.0             16.0   \n",
            "32                  19.0               4.0             11.0   \n",
            "...                  ...               ...              ...   \n",
            "102030              20.0              20.0             20.0   \n",
            "102047              40.0               5.0             44.0   \n",
            "102054              16.0              12.0             15.0   \n",
            "102065              16.0              14.0             11.0   \n",
            "102069              16.0              20.0             16.0   \n",
            "\n",
            "       seller_zip_code_prefix            seller_city seller_state item_number  \\\n",
            "0                     27277.0          volta redonda           SP           1   \n",
            "1                      3471.0              sao paulo           SP           1   \n",
            "4                     87900.0                 loanda           PR           1   \n",
            "8                      3702.0              sao paulo           SP           1   \n",
            "32                     3504.0              sao paulo           SP           1   \n",
            "...                       ...                    ...          ...         ...   \n",
            "102030                 8410.0              sao paulo           SP           1   \n",
            "102047                 9171.0            santo andre           SP           1   \n",
            "102054                15081.0  sao jose do rio preto           SP           1   \n",
            "102065                24440.0            sao goncalo           RJ           4   \n",
            "102069                13321.0                  salto           SP           1   \n",
            "\n",
            "        iprice totalprice  \n",
            "0        72.19      72.19  \n",
            "1       259.83     259.83  \n",
            "4       218.04     218.04  \n",
            "8       157.60     157.60  \n",
            "32       30.60      30.60  \n",
            "...        ...        ...  \n",
            "102030   76.85      76.85  \n",
            "102047   95.69      95.69  \n",
            "102054   80.44      80.44  \n",
            "102065  356.76     356.76  \n",
            "102069  139.88     139.88  \n",
            "\n",
            "[8214 rows x 40 columns]\n",
            "                                order_id  order_item_id  payment_value  \\\n",
            "3       00024acbcdf0a6daa1e931b038114c75            1.0          25.78   \n",
            "5       00048cc3ae777c65dbb7d2a0634bc1ea            1.0          34.59   \n",
            "7       000576fe39319847cbb9d288c5617fa6            1.0         880.75   \n",
            "9       0005f50442cb953dcd1d21e1fb923495            1.0          65.39   \n",
            "10      00061f2a7bc09da83e415a52dc8a4af1            1.0          68.87   \n",
            "...                                  ...            ...            ...   \n",
            "102050  fff0db5573c78c1cb5a2b68a2bbd8d4a            1.0          77.70   \n",
            "102055  fff6889749958e42b47a7977a4cf0ea0            1.0         123.60   \n",
            "102061  fff90cdcb3b2e6cfb397d05d562fd3fe            1.0         101.73   \n",
            "102072  fffce4705a9662cd70adb13d4a31832d            1.0         116.85   \n",
            "102073  fffe18544ffabc95dfada21779c9644f            1.0          64.71   \n",
            "\n",
            "                               review_id review_score review_comment_title  \\\n",
            "3       f4028d019cb58564807486a6aaf33817            4                 None   \n",
            "5       5e4e50af3b7960b7a10d86ec869509e8            4                 None   \n",
            "7       f0733ebeb51b637dfdc953983c867b89            5                 None   \n",
            "9       5c0b7e34ed85ec659bb064902d878e7a            4                 None   \n",
            "10      7e92c32ae297ef950ee69781d9f1760c            5                 None   \n",
            "...                                  ...          ...                  ...   \n",
            "102050  7c689f84c1fa0f0f12be33203ba6b21d            2                 None   \n",
            "102055  56813fd9cb7e1f24340539960a311122            4                 None   \n",
            "102061  d36aebe5756a7aecd9805954a8533285            5                 None   \n",
            "102072  dbdd81cd59a1a9f94a10a990b4d48dce            5                 None   \n",
            "102073  fba117c9ac40d41ca7be54741f471303            5                 None   \n",
            "\n",
            "                                   review_comment_message  \\\n",
            "3                                                    None   \n",
            "5                                                    None   \n",
            "7                                                    None   \n",
            "9                                                    None   \n",
            "10      A caixa do produto veio com uma pequena avaria...   \n",
            "...                                                   ...   \n",
            "102050                                               None   \n",
            "102055                                               None   \n",
            "102061                                               None   \n",
            "102072                                               None   \n",
            "102073    Recebi o produto antes do prazo e corretamente.   \n",
            "\n",
            "       review_creation_date review_answer_timestamp  \\\n",
            "3       2018-08-15 00:00:00     2018-08-15 16:39:00   \n",
            "5       2017-05-23 00:00:00     2017-05-24 19:00:00   \n",
            "7       2018-07-10 00:00:00     2018-07-11 20:14:00   \n",
            "9       2018-07-05 00:00:00     2018-07-05 23:17:00   \n",
            "10      2018-03-30 00:00:00     2018-03-30 04:04:00   \n",
            "...                     ...                     ...   \n",
            "102050  2018-06-29 00:00:00     2018-06-30 15:56:00   \n",
            "102055  2017-09-29 00:00:00     2017-10-02 08:29:00   \n",
            "102061  2017-11-30 00:00:00     2017-12-02 10:52:00   \n",
            "102072  2017-10-29 00:00:00     2017-10-29 21:33:00   \n",
            "102073  2017-08-17 00:00:00     2017-08-18 12:24:00   \n",
            "\n",
            "                             customer_id  ... product_weight_g  \\\n",
            "3       d4eb9395c8c0431ee92fce09860c5a06  ...            200.0   \n",
            "5       816cbea969fe5b689b39cfc97a506742  ...            450.0   \n",
            "7       9ed5e522dd9dd85b4af4a077526d8117  ...          13805.0   \n",
            "9       351d3cb2cee3c7fd0af6616c82df21d3  ...            850.0   \n",
            "10      c6fc061d86fab1e2b2eac259bac71a49  ...            950.0   \n",
            "...                                  ...  ...              ...   \n",
            "102050  57343e0c5ed32cb5a60d261fb66f7f35  ...            150.0   \n",
            "102055  c5d108ecadaedf367e995520d36c9b1d  ...          16050.0   \n",
            "102061  f6cc7b845fde9d4e71361fe6fcd7ef75  ...            750.0   \n",
            "102072  29309aa813182aaddc9b259e31b870e6  ...            967.0   \n",
            "102073  b5e6afd5a41800fdf401e0272ca74655  ...            100.0   \n",
            "\n",
            "       product_length_cm product_height_cm product_width_cm  \\\n",
            "3                   16.0              10.0             15.0   \n",
            "5                   24.0               8.0             15.0   \n",
            "7                   35.0              75.0             45.0   \n",
            "9                   29.0               3.0             21.0   \n",
            "10                  35.0              25.0             20.0   \n",
            "...                  ...               ...              ...   \n",
            "102050              18.0               6.0             13.0   \n",
            "102055              60.0              40.0             40.0   \n",
            "102061              30.0              30.0             11.0   \n",
            "102072              21.0              24.0             19.0   \n",
            "102073              20.0              20.0             20.0   \n",
            "\n",
            "       seller_zip_code_prefix          seller_city seller_state item_number  \\\n",
            "3                     14403.0               franca           SP           1   \n",
            "5                     14091.0       ribeirao preto           SP           1   \n",
            "7                     19010.0  presidente prudente           SP           1   \n",
            "9                      2274.0            sao paulo           SP           1   \n",
            "10                     9015.0          santo andre           SP           1   \n",
            "...                       ...                  ...          ...         ...   \n",
            "102050                 1541.0            sao paulo           SP           1   \n",
            "102055                21635.0       rio de janeiro           RJ           1   \n",
            "102061                 3971.0            sao paulo           SP           1   \n",
            "102072                80610.0             curitiba           PR           1   \n",
            "102073                 4733.0            sao paulo           SP           1   \n",
            "\n",
            "        iprice totalprice  \n",
            "3        25.78      25.78  \n",
            "5        34.59      34.59  \n",
            "7       880.75     880.75  \n",
            "9        65.39      65.39  \n",
            "10       68.87      68.87  \n",
            "...        ...        ...  \n",
            "102050   77.70      77.70  \n",
            "102055  123.60     123.60  \n",
            "102061  101.73     101.73  \n",
            "102072  116.85     116.85  \n",
            "102073   64.71      64.71  \n",
            "\n",
            "[18720 rows x 40 columns]\n"
          ]
        }
      ]
    },
    {
      "cell_type": "markdown",
      "source": [
        "This is an important validation step to ensure the timestamp logic holds:\n",
        "\n",
        "    Purchase → Shipping Limit → Carrier Pickup → Customer Delivery\n",
        "    Any inversion in this order suggests potential data entry or operational issues."
      ],
      "metadata": {
        "id": "p6AKjlOSlo6J"
      }
    },
    {
      "cell_type": "code",
      "source": [
        "# Drop all rows where order status and delivery dates contradict each other\n",
        "df = df.drop(falsedelivered.index.union(falseundelivered.index))\n",
        "\n",
        "# Drop rows where delivery dates don't follow expected order (purchase → delivery)\n",
        "df = df.drop(estimatetimewrong.index)\n",
        "df = df.drop(deliveredtimewrong.index)"
      ],
      "metadata": {
        "id": "hsl1_xPWNF6v"
      },
      "execution_count": null,
      "outputs": []
    },
    {
      "cell_type": "code",
      "source": [
        "# Save the fully cleaned dataset to CSV\n",
        "df.to_csv(\"afterclean.csv\", index=False)"
      ],
      "metadata": {
        "id": "1Zs3S62qbhZB"
      },
      "execution_count": null,
      "outputs": []
    },
    {
      "cell_type": "code",
      "source": [
        "# Store final cleaned DataFrame for further analysis and modeling\n",
        "afterclean = df    # Contains 91,646 rows"
      ],
      "metadata": {
        "id": "qK1nuDyJboDx"
      },
      "execution_count": null,
      "outputs": []
    },
    {
      "cell_type": "markdown",
      "source": [
        "### Calculate Delivery and Review Times"
      ],
      "metadata": {
        "id": "4GJRMwL5b7XM"
      }
    },
    {
      "cell_type": "code",
      "source": [
        "# Reassign the cleaned dataset to df\n",
        "df=afterclean\n",
        "\n",
        "# Calculate how long it took to deliver the order and how long it took to respond to the review\n",
        "df['delivery_time'] = df['order_delivered_customer_date'] - df['order_purchase_timestamp']\n",
        "df['review_time'] = df['review_answer_timestamp'] - df['review_creation_date']\n",
        "\n",
        "# Fill missing delivery times with 0 (e.g., where dates may be missing)\n",
        "df['delivery_time'] = df['delivery_time'].fillna(0)"
      ],
      "metadata": {
        "id": "xgIDi6gXcBNf"
      },
      "execution_count": null,
      "outputs": []
    },
    {
      "cell_type": "markdown",
      "source": [
        "### Estimate Product Size (Volume)"
      ],
      "metadata": {
        "id": "sftLcs0Tdkt4"
      }
    },
    {
      "cell_type": "code",
      "source": [
        "# Ensure all size dimensions are numeric\n",
        "df['product_length_cm'] = pd.to_numeric(df['product_length_cm'], errors='coerce')\n",
        "df['product_height_cm'] = pd.to_numeric(df['product_height_cm'], errors='coerce')\n",
        "df['product_width_cm'] = pd.to_numeric(df['product_width_cm'], errors='coerce')\n",
        "\n",
        "# Calculate product volume (length × height × width)\n",
        "df['size'] = df['product_length_cm']* df['product_height_cm']*df[\"product_width_cm\"]"
      ],
      "metadata": {
        "id": "8IHjnvKHc3uT"
      },
      "execution_count": null,
      "outputs": []
    },
    {
      "cell_type": "markdown",
      "source": [
        "### Categorize Delivery Status"
      ],
      "metadata": {
        "id": "O-fn_e0jdniW"
      }
    },
    {
      "cell_type": "code",
      "source": [
        "# Create a new column `status` with numeric encoding for order outcome\n",
        "def classify_row(row):\n",
        "    if row['order_status'] == 'delivered':\n",
        "        if row['order_delivered_customer_date'] <= row['order_estimated_delivery_date']:\n",
        "            return 1\n",
        "        else:\n",
        "            return 2\n",
        "    elif row['order_status'] in ['canceled', 'unavailable']:\n",
        "        return 0\n",
        "    elif row['order_status'] == 'shipped':\n",
        "        return 3\n",
        "    else:\n",
        "        return 4\n",
        "df['status'] = df.apply(classify_row, axis=1)"
      ],
      "metadata": {
        "id": "pebTXE4XdWhm"
      },
      "execution_count": null,
      "outputs": []
    },
    {
      "cell_type": "markdown",
      "source": [
        "### Encode Product Categories"
      ],
      "metadata": {
        "id": "wB4mW-1DdrHc"
      }
    },
    {
      "cell_type": "code",
      "source": [
        "# Convert product categories into categorical codes\n",
        "df['product_category_name'] = df['product_category_name'].astype('category')\n",
        "df['category'] = df['product_category_name'].cat.codes"
      ],
      "metadata": {
        "id": "FtO-gCX6dZ-C"
      },
      "execution_count": null,
      "outputs": []
    },
    {
      "cell_type": "markdown",
      "source": [
        "### Compute Review Score Averages"
      ],
      "metadata": {
        "id": "lXL4ghFYyEor"
      }
    },
    {
      "cell_type": "code",
      "source": [
        "# Convert review scores to numeric type\n",
        "df['review_score'] = pd.to_numeric(df['review_score'], errors='coerce')\n",
        "\n",
        "# Calculate average review score by seller\n",
        "df['mean_review_score_seller'] = df.groupby('seller_id')['review_score'].transform('mean')"
      ],
      "metadata": {
        "id": "C0wmZuEQdvpo"
      },
      "execution_count": null,
      "outputs": []
    },
    {
      "cell_type": "code",
      "source": [
        "# Calculate average review score by product id\n",
        "df['mean_review_score_product'] = df.groupby('product_id')['review_score'].transform('mean')\n",
        "\n",
        "# Calculate average review score by product category\n",
        "df['mean_review_score_productcategory'] = df.groupby('category')['review_score'].transform('mean')"
      ],
      "metadata": {
        "id": "J8c3y6dcdw2m"
      },
      "execution_count": null,
      "outputs": []
    },
    {
      "cell_type": "code",
      "source": [
        "# Save the complete dataset before narrowing down to model input features\n",
        "df1 = df\n",
        "df1.to_csv(\"beforechoosing.csv\", index=False)"
      ],
      "metadata": {
        "id": "iB-solwx3Sld"
      },
      "execution_count": null,
      "outputs": []
    },
    {
      "cell_type": "code",
      "source": [
        "# Retain only the relevant columns for machine learning\n",
        "df=df1\n",
        "columns_to_keep = ['review_score','payment_value', 'review_time',\n",
        "               'status', 'delivery_time', 'payment_installments',\n",
        "               'price', 'freight_value','category','product_name_lenght',\n",
        "               'product_description_lenght','product_photos_qty',\n",
        "               'product_weight_g','size','item_number',\n",
        "               'mean_review_score_product','mean_review_score_seller','mean_review_score_productcategory']"
      ],
      "metadata": {
        "id": "686H_qQVehQL"
      },
      "execution_count": null,
      "outputs": []
    },
    {
      "cell_type": "markdown",
      "source": [
        "### Check and Drop Missing Data"
      ],
      "metadata": {
        "id": "tecjVOkw36k1"
      }
    },
    {
      "cell_type": "code",
      "source": [
        "# Display number of missing values in selected columns\n",
        "na_counts = df[columns_to_keep].isna().sum()\n",
        "has_na = df[columns_to_keep].isna().any()\n",
        "\n",
        "print(\"na number：\\n\", na_counts)"
      ],
      "metadata": {
        "colab": {
          "base_uri": "https://localhost:8080/"
        },
        "id": "GlZ5-8sF34eo",
        "outputId": "26f23e17-85a9-471a-c359-be96136ef6ff"
      },
      "execution_count": null,
      "outputs": [
        {
          "output_type": "stream",
          "name": "stdout",
          "text": [
            "na number：\n",
            " review_score                            2\n",
            "payment_value                           0\n",
            "review_time                             2\n",
            "status                                  0\n",
            "delivery_time                           0\n",
            "payment_installments                    0\n",
            "price                                   0\n",
            "freight_value                           0\n",
            "category                                0\n",
            "product_name_lenght                  1296\n",
            "product_description_lenght           1296\n",
            "product_photos_qty                   1296\n",
            "product_weight_g                       15\n",
            "size                                   17\n",
            "item_number                             0\n",
            "mean_review_score_product               2\n",
            "mean_review_score_seller                2\n",
            "mean_review_score_productcategory       2\n",
            "dtype: int64\n"
          ]
        }
      ]
    },
    {
      "cell_type": "code",
      "source": [
        "# Drop rows with missing values and convert review scores to binary labels (0 = negative, 1 = positive)\n",
        "df = df[columns_to_keep]\n",
        "df = df.dropna()\n",
        "df.loc[:, 'review_score'] = df['review_score'].apply(lambda x: 0 if x <= 3 else 1)"
      ],
      "metadata": {
        "id": "9ZM9lqU1krfV"
      },
      "execution_count": null,
      "outputs": []
    },
    {
      "cell_type": "code",
      "source": [
        "df   # Contains 90,347 rows"
      ],
      "metadata": {
        "colab": {
          "base_uri": "https://localhost:8080/",
          "height": 617
        },
        "id": "nyXWfuqd2tAN",
        "outputId": "05790a40-17f8-42ee-8c8c-8e324a476ec6"
      },
      "execution_count": null,
      "outputs": [
        {
          "output_type": "execute_result",
          "data": {
            "text/plain": [
              "        review_score  payment_value      review_time  status  \\\n",
              "0                1.0          72.19  1 days 10:57:00       1   \n",
              "1                1.0         259.83  2 days 11:34:00       1   \n",
              "2                1.0         216.87  0 days 16:06:00       1   \n",
              "3                1.0          25.78  0 days 16:39:00       1   \n",
              "4                1.0         218.04  1 days 10:54:00       1   \n",
              "...              ...            ...              ...     ...   \n",
              "102070           1.0         343.40  3 days 12:53:00       1   \n",
              "102071           1.0         386.53  1 days 09:25:00       1   \n",
              "102072           1.0         116.85  0 days 21:33:00       1   \n",
              "102073           1.0          64.71  1 days 12:24:00       1   \n",
              "102074           1.0          55.79  2 days 21:27:00       1   \n",
              "\n",
              "           delivery_time payment_installments   price  freight_value  \\\n",
              "0        7 days 14:44:46                  2.0   58.90          13.29   \n",
              "1       16 days 05:11:18                  3.0  239.90          19.93   \n",
              "2        7 days 22:45:45                  5.0  199.00          17.87   \n",
              "3        6 days 03:32:04                  2.0   12.99          12.79   \n",
              "4       25 days 02:44:40                  3.0  199.90          18.14   \n",
              "...                  ...                  ...     ...            ...   \n",
              "102070  17 days 08:59:34                  1.0  299.99          43.41   \n",
              "102071   9 days 10:05:09                  1.0  350.00          36.53   \n",
              "102072   4 days 19:14:26                  3.0   99.90          16.95   \n",
              "102073   1 days 22:56:41                  3.0   55.99           8.72   \n",
              "102074   5 days 00:56:08                  1.0   43.00          12.79   \n",
              "\n",
              "        category  product_name_lenght  product_description_lenght  \\\n",
              "0             28                 58.0                       598.0   \n",
              "1             65                 56.0                       239.0   \n",
              "2             56                 59.0                       695.0   \n",
              "3             64                 42.0                       480.0   \n",
              "4             42                 59.0                       409.0   \n",
              "...          ...                  ...                         ...   \n",
              "102070        74                 43.0                      1002.0   \n",
              "102071        46                 31.0                       232.0   \n",
              "102072        34                 43.0                       869.0   \n",
              "102073        46                 56.0                      1306.0   \n",
              "102074        15                 47.0                       511.0   \n",
              "\n",
              "        product_photos_qty product_weight_g     size  item_number  \\\n",
              "0                      4.0            650.0   3528.0            1   \n",
              "1                      2.0          30000.0  60000.0            1   \n",
              "2                      2.0           3050.0  14157.0            1   \n",
              "3                      1.0            200.0   2400.0            1   \n",
              "4                      1.0           3750.0  42000.0            1   \n",
              "...                    ...              ...      ...          ...   \n",
              "102070                 3.0          10150.0  53400.0            1   \n",
              "102071                 1.0           8950.0  44460.0            1   \n",
              "102072                 1.0            967.0   9576.0            1   \n",
              "102073                 1.0            100.0   8000.0            1   \n",
              "102074                 1.0            600.0   1710.0            1   \n",
              "\n",
              "        mean_review_score_product  mean_review_score_seller  \\\n",
              "0                        4.428571                  4.000000   \n",
              "1                        4.000000                  3.837838   \n",
              "2                        4.500000                  4.111111   \n",
              "3                        4.000000                  4.666667   \n",
              "4                        3.727273                  3.720000   \n",
              "...                           ...                       ...   \n",
              "102070                   4.150000                  4.150000   \n",
              "102071                   4.500000                  4.214286   \n",
              "102072                   4.700000                  4.460317   \n",
              "102073                   4.700000                  4.526316   \n",
              "102074                   5.000000                  3.814286   \n",
              "\n",
              "        mean_review_score_productcategory  \n",
              "0                                4.155405  \n",
              "1                                4.217197  \n",
              "2                                3.981624  \n",
              "3                                4.194742  \n",
              "4                                4.122386  \n",
              "...                                   ...  \n",
              "102070                           4.123788  \n",
              "102071                           4.000162  \n",
              "102072                           4.152780  \n",
              "102073                           4.000162  \n",
              "102074                           3.893232  \n",
              "\n",
              "[90347 rows x 18 columns]"
            ],
            "text/html": [
              "\n",
              "  <div id=\"df-cf47a73e-1d68-446e-a705-31773b31cae3\" class=\"colab-df-container\">\n",
              "    <div>\n",
              "<style scoped>\n",
              "    .dataframe tbody tr th:only-of-type {\n",
              "        vertical-align: middle;\n",
              "    }\n",
              "\n",
              "    .dataframe tbody tr th {\n",
              "        vertical-align: top;\n",
              "    }\n",
              "\n",
              "    .dataframe thead th {\n",
              "        text-align: right;\n",
              "    }\n",
              "</style>\n",
              "<table border=\"1\" class=\"dataframe\">\n",
              "  <thead>\n",
              "    <tr style=\"text-align: right;\">\n",
              "      <th></th>\n",
              "      <th>review_score</th>\n",
              "      <th>payment_value</th>\n",
              "      <th>review_time</th>\n",
              "      <th>status</th>\n",
              "      <th>delivery_time</th>\n",
              "      <th>payment_installments</th>\n",
              "      <th>price</th>\n",
              "      <th>freight_value</th>\n",
              "      <th>category</th>\n",
              "      <th>product_name_lenght</th>\n",
              "      <th>product_description_lenght</th>\n",
              "      <th>product_photos_qty</th>\n",
              "      <th>product_weight_g</th>\n",
              "      <th>size</th>\n",
              "      <th>item_number</th>\n",
              "      <th>mean_review_score_product</th>\n",
              "      <th>mean_review_score_seller</th>\n",
              "      <th>mean_review_score_productcategory</th>\n",
              "    </tr>\n",
              "  </thead>\n",
              "  <tbody>\n",
              "    <tr>\n",
              "      <th>0</th>\n",
              "      <td>1.0</td>\n",
              "      <td>72.19</td>\n",
              "      <td>1 days 10:57:00</td>\n",
              "      <td>1</td>\n",
              "      <td>7 days 14:44:46</td>\n",
              "      <td>2.0</td>\n",
              "      <td>58.90</td>\n",
              "      <td>13.29</td>\n",
              "      <td>28</td>\n",
              "      <td>58.0</td>\n",
              "      <td>598.0</td>\n",
              "      <td>4.0</td>\n",
              "      <td>650.0</td>\n",
              "      <td>3528.0</td>\n",
              "      <td>1</td>\n",
              "      <td>4.428571</td>\n",
              "      <td>4.000000</td>\n",
              "      <td>4.155405</td>\n",
              "    </tr>\n",
              "    <tr>\n",
              "      <th>1</th>\n",
              "      <td>1.0</td>\n",
              "      <td>259.83</td>\n",
              "      <td>2 days 11:34:00</td>\n",
              "      <td>1</td>\n",
              "      <td>16 days 05:11:18</td>\n",
              "      <td>3.0</td>\n",
              "      <td>239.90</td>\n",
              "      <td>19.93</td>\n",
              "      <td>65</td>\n",
              "      <td>56.0</td>\n",
              "      <td>239.0</td>\n",
              "      <td>2.0</td>\n",
              "      <td>30000.0</td>\n",
              "      <td>60000.0</td>\n",
              "      <td>1</td>\n",
              "      <td>4.000000</td>\n",
              "      <td>3.837838</td>\n",
              "      <td>4.217197</td>\n",
              "    </tr>\n",
              "    <tr>\n",
              "      <th>2</th>\n",
              "      <td>1.0</td>\n",
              "      <td>216.87</td>\n",
              "      <td>0 days 16:06:00</td>\n",
              "      <td>1</td>\n",
              "      <td>7 days 22:45:45</td>\n",
              "      <td>5.0</td>\n",
              "      <td>199.00</td>\n",
              "      <td>17.87</td>\n",
              "      <td>56</td>\n",
              "      <td>59.0</td>\n",
              "      <td>695.0</td>\n",
              "      <td>2.0</td>\n",
              "      <td>3050.0</td>\n",
              "      <td>14157.0</td>\n",
              "      <td>1</td>\n",
              "      <td>4.500000</td>\n",
              "      <td>4.111111</td>\n",
              "      <td>3.981624</td>\n",
              "    </tr>\n",
              "    <tr>\n",
              "      <th>3</th>\n",
              "      <td>1.0</td>\n",
              "      <td>25.78</td>\n",
              "      <td>0 days 16:39:00</td>\n",
              "      <td>1</td>\n",
              "      <td>6 days 03:32:04</td>\n",
              "      <td>2.0</td>\n",
              "      <td>12.99</td>\n",
              "      <td>12.79</td>\n",
              "      <td>64</td>\n",
              "      <td>42.0</td>\n",
              "      <td>480.0</td>\n",
              "      <td>1.0</td>\n",
              "      <td>200.0</td>\n",
              "      <td>2400.0</td>\n",
              "      <td>1</td>\n",
              "      <td>4.000000</td>\n",
              "      <td>4.666667</td>\n",
              "      <td>4.194742</td>\n",
              "    </tr>\n",
              "    <tr>\n",
              "      <th>4</th>\n",
              "      <td>1.0</td>\n",
              "      <td>218.04</td>\n",
              "      <td>1 days 10:54:00</td>\n",
              "      <td>1</td>\n",
              "      <td>25 days 02:44:40</td>\n",
              "      <td>3.0</td>\n",
              "      <td>199.90</td>\n",
              "      <td>18.14</td>\n",
              "      <td>42</td>\n",
              "      <td>59.0</td>\n",
              "      <td>409.0</td>\n",
              "      <td>1.0</td>\n",
              "      <td>3750.0</td>\n",
              "      <td>42000.0</td>\n",
              "      <td>1</td>\n",
              "      <td>3.727273</td>\n",
              "      <td>3.720000</td>\n",
              "      <td>4.122386</td>\n",
              "    </tr>\n",
              "    <tr>\n",
              "      <th>...</th>\n",
              "      <td>...</td>\n",
              "      <td>...</td>\n",
              "      <td>...</td>\n",
              "      <td>...</td>\n",
              "      <td>...</td>\n",
              "      <td>...</td>\n",
              "      <td>...</td>\n",
              "      <td>...</td>\n",
              "      <td>...</td>\n",
              "      <td>...</td>\n",
              "      <td>...</td>\n",
              "      <td>...</td>\n",
              "      <td>...</td>\n",
              "      <td>...</td>\n",
              "      <td>...</td>\n",
              "      <td>...</td>\n",
              "      <td>...</td>\n",
              "      <td>...</td>\n",
              "    </tr>\n",
              "    <tr>\n",
              "      <th>102070</th>\n",
              "      <td>1.0</td>\n",
              "      <td>343.40</td>\n",
              "      <td>3 days 12:53:00</td>\n",
              "      <td>1</td>\n",
              "      <td>17 days 08:59:34</td>\n",
              "      <td>1.0</td>\n",
              "      <td>299.99</td>\n",
              "      <td>43.41</td>\n",
              "      <td>74</td>\n",
              "      <td>43.0</td>\n",
              "      <td>1002.0</td>\n",
              "      <td>3.0</td>\n",
              "      <td>10150.0</td>\n",
              "      <td>53400.0</td>\n",
              "      <td>1</td>\n",
              "      <td>4.150000</td>\n",
              "      <td>4.150000</td>\n",
              "      <td>4.123788</td>\n",
              "    </tr>\n",
              "    <tr>\n",
              "      <th>102071</th>\n",
              "      <td>1.0</td>\n",
              "      <td>386.53</td>\n",
              "      <td>1 days 09:25:00</td>\n",
              "      <td>1</td>\n",
              "      <td>9 days 10:05:09</td>\n",
              "      <td>1.0</td>\n",
              "      <td>350.00</td>\n",
              "      <td>36.53</td>\n",
              "      <td>46</td>\n",
              "      <td>31.0</td>\n",
              "      <td>232.0</td>\n",
              "      <td>1.0</td>\n",
              "      <td>8950.0</td>\n",
              "      <td>44460.0</td>\n",
              "      <td>1</td>\n",
              "      <td>4.500000</td>\n",
              "      <td>4.214286</td>\n",
              "      <td>4.000162</td>\n",
              "    </tr>\n",
              "    <tr>\n",
              "      <th>102072</th>\n",
              "      <td>1.0</td>\n",
              "      <td>116.85</td>\n",
              "      <td>0 days 21:33:00</td>\n",
              "      <td>1</td>\n",
              "      <td>4 days 19:14:26</td>\n",
              "      <td>3.0</td>\n",
              "      <td>99.90</td>\n",
              "      <td>16.95</td>\n",
              "      <td>34</td>\n",
              "      <td>43.0</td>\n",
              "      <td>869.0</td>\n",
              "      <td>1.0</td>\n",
              "      <td>967.0</td>\n",
              "      <td>9576.0</td>\n",
              "      <td>1</td>\n",
              "      <td>4.700000</td>\n",
              "      <td>4.460317</td>\n",
              "      <td>4.152780</td>\n",
              "    </tr>\n",
              "    <tr>\n",
              "      <th>102073</th>\n",
              "      <td>1.0</td>\n",
              "      <td>64.71</td>\n",
              "      <td>1 days 12:24:00</td>\n",
              "      <td>1</td>\n",
              "      <td>1 days 22:56:41</td>\n",
              "      <td>3.0</td>\n",
              "      <td>55.99</td>\n",
              "      <td>8.72</td>\n",
              "      <td>46</td>\n",
              "      <td>56.0</td>\n",
              "      <td>1306.0</td>\n",
              "      <td>1.0</td>\n",
              "      <td>100.0</td>\n",
              "      <td>8000.0</td>\n",
              "      <td>1</td>\n",
              "      <td>4.700000</td>\n",
              "      <td>4.526316</td>\n",
              "      <td>4.000162</td>\n",
              "    </tr>\n",
              "    <tr>\n",
              "      <th>102074</th>\n",
              "      <td>1.0</td>\n",
              "      <td>55.79</td>\n",
              "      <td>2 days 21:27:00</td>\n",
              "      <td>1</td>\n",
              "      <td>5 days 00:56:08</td>\n",
              "      <td>1.0</td>\n",
              "      <td>43.00</td>\n",
              "      <td>12.79</td>\n",
              "      <td>15</td>\n",
              "      <td>47.0</td>\n",
              "      <td>511.0</td>\n",
              "      <td>1.0</td>\n",
              "      <td>600.0</td>\n",
              "      <td>1710.0</td>\n",
              "      <td>1</td>\n",
              "      <td>5.000000</td>\n",
              "      <td>3.814286</td>\n",
              "      <td>3.893232</td>\n",
              "    </tr>\n",
              "  </tbody>\n",
              "</table>\n",
              "<p>90347 rows × 18 columns</p>\n",
              "</div>\n",
              "    <div class=\"colab-df-buttons\">\n",
              "\n",
              "  <div class=\"colab-df-container\">\n",
              "    <button class=\"colab-df-convert\" onclick=\"convertToInteractive('df-cf47a73e-1d68-446e-a705-31773b31cae3')\"\n",
              "            title=\"Convert this dataframe to an interactive table.\"\n",
              "            style=\"display:none;\">\n",
              "\n",
              "  <svg xmlns=\"http://www.w3.org/2000/svg\" height=\"24px\" viewBox=\"0 -960 960 960\">\n",
              "    <path d=\"M120-120v-720h720v720H120Zm60-500h600v-160H180v160Zm220 220h160v-160H400v160Zm0 220h160v-160H400v160ZM180-400h160v-160H180v160Zm440 0h160v-160H620v160ZM180-180h160v-160H180v160Zm440 0h160v-160H620v160Z\"/>\n",
              "  </svg>\n",
              "    </button>\n",
              "\n",
              "  <style>\n",
              "    .colab-df-container {\n",
              "      display:flex;\n",
              "      gap: 12px;\n",
              "    }\n",
              "\n",
              "    .colab-df-convert {\n",
              "      background-color: #E8F0FE;\n",
              "      border: none;\n",
              "      border-radius: 50%;\n",
              "      cursor: pointer;\n",
              "      display: none;\n",
              "      fill: #1967D2;\n",
              "      height: 32px;\n",
              "      padding: 0 0 0 0;\n",
              "      width: 32px;\n",
              "    }\n",
              "\n",
              "    .colab-df-convert:hover {\n",
              "      background-color: #E2EBFA;\n",
              "      box-shadow: 0px 1px 2px rgba(60, 64, 67, 0.3), 0px 1px 3px 1px rgba(60, 64, 67, 0.15);\n",
              "      fill: #174EA6;\n",
              "    }\n",
              "\n",
              "    .colab-df-buttons div {\n",
              "      margin-bottom: 4px;\n",
              "    }\n",
              "\n",
              "    [theme=dark] .colab-df-convert {\n",
              "      background-color: #3B4455;\n",
              "      fill: #D2E3FC;\n",
              "    }\n",
              "\n",
              "    [theme=dark] .colab-df-convert:hover {\n",
              "      background-color: #434B5C;\n",
              "      box-shadow: 0px 1px 3px 1px rgba(0, 0, 0, 0.15);\n",
              "      filter: drop-shadow(0px 1px 2px rgba(0, 0, 0, 0.3));\n",
              "      fill: #FFFFFF;\n",
              "    }\n",
              "  </style>\n",
              "\n",
              "    <script>\n",
              "      const buttonEl =\n",
              "        document.querySelector('#df-cf47a73e-1d68-446e-a705-31773b31cae3 button.colab-df-convert');\n",
              "      buttonEl.style.display =\n",
              "        google.colab.kernel.accessAllowed ? 'block' : 'none';\n",
              "\n",
              "      async function convertToInteractive(key) {\n",
              "        const element = document.querySelector('#df-cf47a73e-1d68-446e-a705-31773b31cae3');\n",
              "        const dataTable =\n",
              "          await google.colab.kernel.invokeFunction('convertToInteractive',\n",
              "                                                    [key], {});\n",
              "        if (!dataTable) return;\n",
              "\n",
              "        const docLinkHtml = 'Like what you see? Visit the ' +\n",
              "          '<a target=\"_blank\" href=https://colab.research.google.com/notebooks/data_table.ipynb>data table notebook</a>'\n",
              "          + ' to learn more about interactive tables.';\n",
              "        element.innerHTML = '';\n",
              "        dataTable['output_type'] = 'display_data';\n",
              "        await google.colab.output.renderOutput(dataTable, element);\n",
              "        const docLink = document.createElement('div');\n",
              "        docLink.innerHTML = docLinkHtml;\n",
              "        element.appendChild(docLink);\n",
              "      }\n",
              "    </script>\n",
              "  </div>\n",
              "\n",
              "\n",
              "<div id=\"df-da4f38cc-2516-4167-9ee0-a8099d15ca0d\">\n",
              "  <button class=\"colab-df-quickchart\" onclick=\"quickchart('df-da4f38cc-2516-4167-9ee0-a8099d15ca0d')\"\n",
              "            title=\"Suggest charts\"\n",
              "            style=\"display:none;\">\n",
              "\n",
              "<svg xmlns=\"http://www.w3.org/2000/svg\" height=\"24px\"viewBox=\"0 0 24 24\"\n",
              "     width=\"24px\">\n",
              "    <g>\n",
              "        <path d=\"M19 3H5c-1.1 0-2 .9-2 2v14c0 1.1.9 2 2 2h14c1.1 0 2-.9 2-2V5c0-1.1-.9-2-2-2zM9 17H7v-7h2v7zm4 0h-2V7h2v10zm4 0h-2v-4h2v4z\"/>\n",
              "    </g>\n",
              "</svg>\n",
              "  </button>\n",
              "\n",
              "<style>\n",
              "  .colab-df-quickchart {\n",
              "      --bg-color: #E8F0FE;\n",
              "      --fill-color: #1967D2;\n",
              "      --hover-bg-color: #E2EBFA;\n",
              "      --hover-fill-color: #174EA6;\n",
              "      --disabled-fill-color: #AAA;\n",
              "      --disabled-bg-color: #DDD;\n",
              "  }\n",
              "\n",
              "  [theme=dark] .colab-df-quickchart {\n",
              "      --bg-color: #3B4455;\n",
              "      --fill-color: #D2E3FC;\n",
              "      --hover-bg-color: #434B5C;\n",
              "      --hover-fill-color: #FFFFFF;\n",
              "      --disabled-bg-color: #3B4455;\n",
              "      --disabled-fill-color: #666;\n",
              "  }\n",
              "\n",
              "  .colab-df-quickchart {\n",
              "    background-color: var(--bg-color);\n",
              "    border: none;\n",
              "    border-radius: 50%;\n",
              "    cursor: pointer;\n",
              "    display: none;\n",
              "    fill: var(--fill-color);\n",
              "    height: 32px;\n",
              "    padding: 0;\n",
              "    width: 32px;\n",
              "  }\n",
              "\n",
              "  .colab-df-quickchart:hover {\n",
              "    background-color: var(--hover-bg-color);\n",
              "    box-shadow: 0 1px 2px rgba(60, 64, 67, 0.3), 0 1px 3px 1px rgba(60, 64, 67, 0.15);\n",
              "    fill: var(--button-hover-fill-color);\n",
              "  }\n",
              "\n",
              "  .colab-df-quickchart-complete:disabled,\n",
              "  .colab-df-quickchart-complete:disabled:hover {\n",
              "    background-color: var(--disabled-bg-color);\n",
              "    fill: var(--disabled-fill-color);\n",
              "    box-shadow: none;\n",
              "  }\n",
              "\n",
              "  .colab-df-spinner {\n",
              "    border: 2px solid var(--fill-color);\n",
              "    border-color: transparent;\n",
              "    border-bottom-color: var(--fill-color);\n",
              "    animation:\n",
              "      spin 1s steps(1) infinite;\n",
              "  }\n",
              "\n",
              "  @keyframes spin {\n",
              "    0% {\n",
              "      border-color: transparent;\n",
              "      border-bottom-color: var(--fill-color);\n",
              "      border-left-color: var(--fill-color);\n",
              "    }\n",
              "    20% {\n",
              "      border-color: transparent;\n",
              "      border-left-color: var(--fill-color);\n",
              "      border-top-color: var(--fill-color);\n",
              "    }\n",
              "    30% {\n",
              "      border-color: transparent;\n",
              "      border-left-color: var(--fill-color);\n",
              "      border-top-color: var(--fill-color);\n",
              "      border-right-color: var(--fill-color);\n",
              "    }\n",
              "    40% {\n",
              "      border-color: transparent;\n",
              "      border-right-color: var(--fill-color);\n",
              "      border-top-color: var(--fill-color);\n",
              "    }\n",
              "    60% {\n",
              "      border-color: transparent;\n",
              "      border-right-color: var(--fill-color);\n",
              "    }\n",
              "    80% {\n",
              "      border-color: transparent;\n",
              "      border-right-color: var(--fill-color);\n",
              "      border-bottom-color: var(--fill-color);\n",
              "    }\n",
              "    90% {\n",
              "      border-color: transparent;\n",
              "      border-bottom-color: var(--fill-color);\n",
              "    }\n",
              "  }\n",
              "</style>\n",
              "\n",
              "  <script>\n",
              "    async function quickchart(key) {\n",
              "      const quickchartButtonEl =\n",
              "        document.querySelector('#' + key + ' button');\n",
              "      quickchartButtonEl.disabled = true;  // To prevent multiple clicks.\n",
              "      quickchartButtonEl.classList.add('colab-df-spinner');\n",
              "      try {\n",
              "        const charts = await google.colab.kernel.invokeFunction(\n",
              "            'suggestCharts', [key], {});\n",
              "      } catch (error) {\n",
              "        console.error('Error during call to suggestCharts:', error);\n",
              "      }\n",
              "      quickchartButtonEl.classList.remove('colab-df-spinner');\n",
              "      quickchartButtonEl.classList.add('colab-df-quickchart-complete');\n",
              "    }\n",
              "    (() => {\n",
              "      let quickchartButtonEl =\n",
              "        document.querySelector('#df-da4f38cc-2516-4167-9ee0-a8099d15ca0d button');\n",
              "      quickchartButtonEl.style.display =\n",
              "        google.colab.kernel.accessAllowed ? 'block' : 'none';\n",
              "    })();\n",
              "  </script>\n",
              "</div>\n",
              "\n",
              "  <div id=\"id_18bf06e9-8bb7-495b-8f3c-34c31017efa1\">\n",
              "    <style>\n",
              "      .colab-df-generate {\n",
              "        background-color: #E8F0FE;\n",
              "        border: none;\n",
              "        border-radius: 50%;\n",
              "        cursor: pointer;\n",
              "        display: none;\n",
              "        fill: #1967D2;\n",
              "        height: 32px;\n",
              "        padding: 0 0 0 0;\n",
              "        width: 32px;\n",
              "      }\n",
              "\n",
              "      .colab-df-generate:hover {\n",
              "        background-color: #E2EBFA;\n",
              "        box-shadow: 0px 1px 2px rgba(60, 64, 67, 0.3), 0px 1px 3px 1px rgba(60, 64, 67, 0.15);\n",
              "        fill: #174EA6;\n",
              "      }\n",
              "\n",
              "      [theme=dark] .colab-df-generate {\n",
              "        background-color: #3B4455;\n",
              "        fill: #D2E3FC;\n",
              "      }\n",
              "\n",
              "      [theme=dark] .colab-df-generate:hover {\n",
              "        background-color: #434B5C;\n",
              "        box-shadow: 0px 1px 3px 1px rgba(0, 0, 0, 0.15);\n",
              "        filter: drop-shadow(0px 1px 2px rgba(0, 0, 0, 0.3));\n",
              "        fill: #FFFFFF;\n",
              "      }\n",
              "    </style>\n",
              "    <button class=\"colab-df-generate\" onclick=\"generateWithVariable('df')\"\n",
              "            title=\"Generate code using this dataframe.\"\n",
              "            style=\"display:none;\">\n",
              "\n",
              "  <svg xmlns=\"http://www.w3.org/2000/svg\" height=\"24px\"viewBox=\"0 0 24 24\"\n",
              "       width=\"24px\">\n",
              "    <path d=\"M7,19H8.4L18.45,9,17,7.55,7,17.6ZM5,21V16.75L18.45,3.32a2,2,0,0,1,2.83,0l1.4,1.43a1.91,1.91,0,0,1,.58,1.4,1.91,1.91,0,0,1-.58,1.4L9.25,21ZM18.45,9,17,7.55Zm-12,3A5.31,5.31,0,0,0,4.9,8.1,5.31,5.31,0,0,0,1,6.5,5.31,5.31,0,0,0,4.9,4.9,5.31,5.31,0,0,0,6.5,1,5.31,5.31,0,0,0,8.1,4.9,5.31,5.31,0,0,0,12,6.5,5.46,5.46,0,0,0,6.5,12Z\"/>\n",
              "  </svg>\n",
              "    </button>\n",
              "    <script>\n",
              "      (() => {\n",
              "      const buttonEl =\n",
              "        document.querySelector('#id_18bf06e9-8bb7-495b-8f3c-34c31017efa1 button.colab-df-generate');\n",
              "      buttonEl.style.display =\n",
              "        google.colab.kernel.accessAllowed ? 'block' : 'none';\n",
              "\n",
              "      buttonEl.onclick = () => {\n",
              "        google.colab.notebook.generateWithVariable('df');\n",
              "      }\n",
              "      })();\n",
              "    </script>\n",
              "  </div>\n",
              "\n",
              "    </div>\n",
              "  </div>\n"
            ],
            "application/vnd.google.colaboratory.intrinsic+json": {
              "type": "dataframe",
              "variable_name": "df",
              "summary": "{\n  \"name\": \"df\",\n  \"rows\": 90347,\n  \"fields\": [\n    {\n      \"column\": \"review_score\",\n      \"properties\": {\n        \"dtype\": \"number\",\n        \"std\": 0.42313646343502104,\n        \"min\": 0.0,\n        \"max\": 1.0,\n        \"num_unique_values\": 2,\n        \"samples\": [\n          0.0,\n          1.0\n        ],\n        \"semantic_type\": \"\",\n        \"description\": \"\"\n      }\n    },\n    {\n      \"column\": \"payment_value\",\n      \"properties\": {\n        \"dtype\": \"number\",\n        \"std\": 221.68083793198872,\n        \"min\": 9.59,\n        \"max\": 13664.08,\n        \"num_unique_values\": 25841,\n        \"samples\": [\n          277.02,\n          235.22\n        ],\n        \"semantic_type\": \"\",\n        \"description\": \"\"\n      }\n    },\n    {\n      \"column\": \"review_time\",\n      \"properties\": {\n        \"dtype\": \"category\",\n        \"num_unique_values\": 12088,\n        \"samples\": [\n          \"8 days 11:19:00\",\n          \"7 days 03:01:00\"\n        ],\n        \"semantic_type\": \"\",\n        \"description\": \"\"\n      }\n    },\n    {\n      \"column\": \"status\",\n      \"properties\": {\n        \"dtype\": \"number\",\n        \"std\": 0,\n        \"min\": 0,\n        \"max\": 4,\n        \"num_unique_values\": 5,\n        \"samples\": [\n          2,\n          4\n        ],\n        \"semantic_type\": \"\",\n        \"description\": \"\"\n      }\n    },\n    {\n      \"column\": \"delivery_time\",\n      \"properties\": {\n        \"dtype\": \"string\",\n        \"num_unique_values\": 83032,\n        \"samples\": [\n          \"9 days 22:13:12\",\n          \"8 days 21:34:48\"\n        ],\n        \"semantic_type\": \"\",\n        \"description\": \"\"\n      }\n    },\n    {\n      \"column\": \"payment_installments\",\n      \"properties\": {\n        \"dtype\": \"category\",\n        \"num_unique_values\": 45,\n        \"samples\": [\n          \"24.0\",\n          \"10.0\"\n        ],\n        \"semantic_type\": \"\",\n        \"description\": \"\"\n      }\n    },\n    {\n      \"column\": \"price\",\n      \"properties\": {\n        \"dtype\": \"number\",\n        \"std\": 186.59643377564103,\n        \"min\": 0.85,\n        \"max\": 6735.0,\n        \"num_unique_values\": 5606,\n        \"samples\": [\n          21.45,\n          119.98\n        ],\n        \"semantic_type\": \"\",\n        \"description\": \"\"\n      }\n    },\n    {\n      \"column\": \"freight_value\",\n      \"properties\": {\n        \"dtype\": \"number\",\n        \"std\": 15.848291068706205,\n        \"min\": 0.0,\n        \"max\": 409.68,\n        \"num_unique_values\": 6718,\n        \"samples\": [\n          136.8,\n          5.18\n        ],\n        \"semantic_type\": \"\",\n        \"description\": \"\"\n      }\n    },\n    {\n      \"column\": \"category\",\n      \"properties\": {\n        \"dtype\": \"int8\",\n        \"num_unique_values\": 73,\n        \"samples\": [\n          42,\n          6\n        ],\n        \"semantic_type\": \"\",\n        \"description\": \"\"\n      }\n    },\n    {\n      \"column\": \"product_name_lenght\",\n      \"properties\": {\n        \"dtype\": \"number\",\n        \"std\": 9.997979662487918,\n        \"min\": 5.0,\n        \"max\": 76.0,\n        \"num_unique_values\": 65,\n        \"samples\": [\n          11.0,\n          7.0\n        ],\n        \"semantic_type\": \"\",\n        \"description\": \"\"\n      }\n    },\n    {\n      \"column\": \"product_description_lenght\",\n      \"properties\": {\n        \"dtype\": \"number\",\n        \"std\": 649.8134308935294,\n        \"min\": 4.0,\n        \"max\": 3992.0,\n        \"num_unique_values\": 2914,\n        \"samples\": [\n          779.0,\n          2374.0\n        ],\n        \"semantic_type\": \"\",\n        \"description\": \"\"\n      }\n    },\n    {\n      \"column\": \"product_photos_qty\",\n      \"properties\": {\n        \"dtype\": \"number\",\n        \"std\": 1.7400235947467453,\n        \"min\": 1.0,\n        \"max\": 20.0,\n        \"num_unique_values\": 19,\n        \"samples\": [\n          4.0,\n          8.0\n        ],\n        \"semantic_type\": \"\",\n        \"description\": \"\"\n      }\n    },\n    {\n      \"column\": \"product_weight_g\",\n      \"properties\": {\n        \"dtype\": \"category\",\n        \"num_unique_values\": 3367,\n        \"samples\": [\n          \"703.0\",\n          1168.0\n        ],\n        \"semantic_type\": \"\",\n        \"description\": \"\"\n      }\n    },\n    {\n      \"column\": \"size\",\n      \"properties\": {\n        \"dtype\": \"number\",\n        \"std\": 23207.817001826956,\n        \"min\": 168.0,\n        \"max\": 296208.0,\n        \"num_unique_values\": 4351,\n        \"samples\": [\n          1710.0,\n          47040.0\n        ],\n        \"semantic_type\": \"\",\n        \"description\": \"\"\n      }\n    },\n    {\n      \"column\": \"item_number\",\n      \"properties\": {\n        \"dtype\": \"number\",\n        \"std\": 0,\n        \"min\": 1,\n        \"max\": 20,\n        \"num_unique_values\": 15,\n        \"samples\": [\n          13,\n          15\n        ],\n        \"semantic_type\": \"\",\n        \"description\": \"\"\n      }\n    },\n    {\n      \"column\": \"mean_review_score_product\",\n      \"properties\": {\n        \"dtype\": \"number\",\n        \"std\": 0.8430793225008575,\n        \"min\": 1.0,\n        \"max\": 5.0,\n        \"num_unique_values\": 518,\n        \"samples\": [\n          2.4,\n          3.4\n        ],\n        \"semantic_type\": \"\",\n        \"description\": \"\"\n      }\n    },\n    {\n      \"column\": \"mean_review_score_seller\",\n      \"properties\": {\n        \"dtype\": \"number\",\n        \"std\": 0.3680210128139573,\n        \"min\": 1.0,\n        \"max\": 5.0,\n        \"num_unique_values\": 723,\n        \"samples\": [\n          4.0606060606060606,\n          4.777777777777778\n        ],\n        \"semantic_type\": \"\",\n        \"description\": \"\"\n      }\n    },\n    {\n      \"column\": \"mean_review_score_productcategory\",\n      \"properties\": {\n        \"dtype\": \"number\",\n        \"std\": 0.12478906661924476,\n        \"min\": 2.5,\n        \"max\": 4.666666666666667,\n        \"num_unique_values\": 72,\n        \"samples\": [\n          4.122386223862239,\n          4.666666666666667\n        ],\n        \"semantic_type\": \"\",\n        \"description\": \"\"\n      }\n    }\n  ]\n}"
            }
          },
          "metadata": {},
          "execution_count": 31
        }
      ]
    },
    {
      "cell_type": "code",
      "source": [
        "# Set the final cleaned DataFrame\n",
        "dfnew = df"
      ],
      "metadata": {
        "id": "CBbnKo1z3nYK"
      },
      "execution_count": null,
      "outputs": []
    },
    {
      "cell_type": "code",
      "source": [
        "# Save it for backup\n",
        "dfnew.to_csv(\"datafinial.csv\", index=False)"
      ],
      "metadata": {
        "id": "Ju71ivBSsXlu"
      },
      "execution_count": null,
      "outputs": []
    },
    {
      "cell_type": "markdown",
      "source": [
        "## 1 Model using average columns\n"
      ],
      "metadata": {
        "id": "XPlN9rienaZF"
      }
    },
    {
      "cell_type": "code",
      "source": [
        "# Preview datatypes to ensure compatibility for ML\n",
        "df = dfnew\n",
        "print(df.dtypes)"
      ],
      "metadata": {
        "colab": {
          "base_uri": "https://localhost:8080/"
        },
        "id": "VR5dNyvq0NZG",
        "outputId": "58e3649f-3353-4cd0-fa96-dee43bcf4795"
      },
      "execution_count": null,
      "outputs": [
        {
          "output_type": "stream",
          "name": "stdout",
          "text": [
            "review_score                         float64\n",
            "payment_value                        float64\n",
            "review_time                           object\n",
            "status                                 int64\n",
            "delivery_time                         object\n",
            "payment_installments                  object\n",
            "price                                float64\n",
            "freight_value                        float64\n",
            "category                                int8\n",
            "product_name_lenght                  float64\n",
            "product_description_lenght           float64\n",
            "product_photos_qty                   float64\n",
            "product_weight_g                      object\n",
            "size                                 float64\n",
            "item_number                            int64\n",
            "mean_review_score_product            float64\n",
            "mean_review_score_seller             float64\n",
            "mean_review_score_productcategory    float64\n",
            "dtype: object\n"
          ]
        }
      ]
    },
    {
      "cell_type": "markdown",
      "source": [
        "Some columns like `review_time`, `delivery_time`, `payment_installments` and `product_weight_g` are stored as objects and must be converted before modeling."
      ],
      "metadata": {
        "id": "j5xgzSTG44j6"
      }
    },
    {
      "cell_type": "code",
      "source": [
        "df=dfnew\n",
        "\n",
        "# Convert timedelta columns to numeric (int, in nanoseconds)\n",
        "df['review_time'] = pd.to_timedelta(df['review_time'], errors='coerce')\n",
        "df['delivery_time'] = pd.to_timedelta(df['delivery_time'], errors='coerce')\n",
        "df['review_time'] = df['review_time'].astype(int)\n",
        "df['delivery_time'] = df['delivery_time'].astype(int)\n",
        "\n",
        "# Convert relevant columns to float\n",
        "df['payment_installments'] = df['payment_installments'].astype(float)\n",
        "df['product_weight_g'] = df['product_weight_g'].astype(float)\n",
        "\n",
        "# Define target and features\n",
        "y_value = df['review_score'] # set the y\n",
        "y_values = np.ravel(y_value) # convert to array (list)\n",
        "x_values = df.drop('review_score', axis=1)"
      ],
      "metadata": {
        "id": "n0Wmd65NnbOY"
      },
      "execution_count": null,
      "outputs": []
    },
    {
      "cell_type": "code",
      "source": [
        "from sklearn.model_selection  import train_test_split\n",
        "\n",
        "# Stratified split to preserve class ratio\n",
        "X_train, X_test, Y_train, Y_test = train_test_split(x_values, y_value, test_size = 0.2, random_state=4567, stratify=y_value)\n",
        "\n",
        "# Check shape and types\n",
        "print(X_train.shape)\n",
        "print(X_test.shape)\n",
        "print(Y_train.shape)\n",
        "print(Y_test.shape)\n",
        "print(X_test.columns)\n",
        "print(X_test.dtypes)"
      ],
      "metadata": {
        "colab": {
          "base_uri": "https://localhost:8080/"
        },
        "id": "1GJ4qlq-rQOR",
        "outputId": "48e08853-1050-4ca0-b8bd-9e07c2fe23fa"
      },
      "execution_count": null,
      "outputs": [
        {
          "output_type": "stream",
          "name": "stdout",
          "text": [
            "(72277, 17)\n",
            "(18070, 17)\n",
            "(72277,)\n",
            "(18070,)\n",
            "Index(['payment_value', 'review_time', 'status', 'delivery_time',\n",
            "       'payment_installments', 'price', 'freight_value', 'category',\n",
            "       'product_name_lenght', 'product_description_lenght',\n",
            "       'product_photos_qty', 'product_weight_g', 'size', 'item_number',\n",
            "       'mean_review_score_product', 'mean_review_score_seller',\n",
            "       'mean_review_score_productcategory'],\n",
            "      dtype='object')\n",
            "payment_value                        float64\n",
            "review_time                            int64\n",
            "status                                 int64\n",
            "delivery_time                          int64\n",
            "payment_installments                 float64\n",
            "price                                float64\n",
            "freight_value                        float64\n",
            "category                                int8\n",
            "product_name_lenght                  float64\n",
            "product_description_lenght           float64\n",
            "product_photos_qty                   float64\n",
            "product_weight_g                     float64\n",
            "size                                 float64\n",
            "item_number                            int64\n",
            "mean_review_score_product            float64\n",
            "mean_review_score_seller             float64\n",
            "mean_review_score_productcategory    float64\n",
            "dtype: object\n"
          ]
        }
      ]
    },
    {
      "cell_type": "markdown",
      "source": [
        "### Train Machine Learning Models"
      ],
      "metadata": {
        "id": "JuTJuFS2xrpT"
      }
    },
    {
      "cell_type": "markdown",
      "source": [
        "We use two tree-based ensemble models: Gradient Boosting Decision Trees (GBDT) and XGBoost."
      ],
      "metadata": {
        "id": "x-StbLn453TB"
      }
    },
    {
      "cell_type": "code",
      "source": [
        "# Import models\n",
        "from sklearn.ensemble import GradientBoostingClassifier as GBDT\n",
        "from xgboost import XGBClassifier as XGB\n",
        "from sklearn.metrics import precision_recall_fscore_support\n",
        "\n",
        "# Train both models\n",
        "GBDT_algo = GBDT()\n",
        "GBDT_model = GBDT_algo.fit(X_train, Y_train)\n",
        "XGB_algo = XGB()\n",
        "XGB_model = XGB_algo.fit(X_train, Y_train)\n",
        "\n",
        "# Store models for batch evaluation\n",
        "models = [ GBDT_model, XGB_model]\n",
        "names = ['GBDT', 'XGBDT']"
      ],
      "metadata": {
        "id": "5rA8zJAQwGTr"
      },
      "execution_count": null,
      "outputs": []
    },
    {
      "cell_type": "markdown",
      "source": [
        "### Evaluate Model Performance on Training Data"
      ],
      "metadata": {
        "id": "qaFV8eSV5D6b"
      }
    },
    {
      "cell_type": "code",
      "source": [
        "# Store models and names for easier evaluation\n",
        "models = [ GBDT_model, XGB_model]\n",
        "names = ['GBDT', 'XGBDT']\n",
        "\n",
        "\n",
        "# Evaluate training performance for both models (GBDT and XGB)\n",
        "# Using macro-average metrics to treat both classes equally\n",
        "\n",
        "for i in range(2):\n",
        "  print(f\"Model: {names[i]}\")\n",
        "\n",
        "  # Predict on training data\n",
        "  predict = models[i].predict(X_train)\n",
        "\n",
        "  # Calculate macro precision, recall, and F1-score\n",
        "  precision, recall, f1_score, _ = precision_recall_fscore_support(Y_train, predict, average='macro')\n",
        "\n",
        "  # Display performance metrics\n",
        "  print(f\"Macro Precision: {precision}\")\n",
        "  print(f\"Macro Recall: {recall}\")\n",
        "  print(f\"Macro F1-score: {f1_score}\")\n",
        "  print(\"\\n\")"
      ],
      "metadata": {
        "colab": {
          "base_uri": "https://localhost:8080/"
        },
        "id": "gzvzdH1c4MUs",
        "outputId": "baac09c5-8f8d-440b-9770-0d91b2eb6c90"
      },
      "execution_count": null,
      "outputs": [
        {
          "output_type": "stream",
          "name": "stdout",
          "text": [
            "Model: GBDT\n",
            "Macro Precision: 0.8281911673658939\n",
            "Macro Recall: 0.7508022964588501\n",
            "Macro F1-score: 0.7782817424701021\n",
            "\n",
            "\n",
            "Model: XGBDT\n",
            "Macro Precision: 0.8813715380071094\n",
            "Macro Recall: 0.7896943497718878\n",
            "Macro F1-score: 0.8226420067168267\n",
            "\n",
            "\n"
          ]
        }
      ]
    },
    {
      "cell_type": "markdown",
      "source": [
        "### Evaluate Model Performance on Test Data"
      ],
      "metadata": {
        "id": "dhjAFIy05F7t"
      }
    },
    {
      "cell_type": "code",
      "source": [
        "# Evaluate test performance for both models using macro-average metrics\n",
        "for i in range(2):\n",
        "  print(f\"Model: {names[i]}\")\n",
        "\n",
        "  # Predict on test data\n",
        "  predict = models[i].predict(X_test)\n",
        "\n",
        "  # Calculate precision, recall, and F1 for test data\n",
        "  precision, recall, f1_score, _ = precision_recall_fscore_support(Y_test, predict, average='macro')\n",
        "\n",
        "  # Display metrics\n",
        "  print(f\"Macro Precision: {precision}\")\n",
        "  print(f\"Macro Recall: {recall}\")\n",
        "  print(f\"Macro F1-score: {f1_score}\")\n",
        "  print(\"\\n\")"
      ],
      "metadata": {
        "colab": {
          "base_uri": "https://localhost:8080/"
        },
        "id": "HQ0-hkPs4Lo2",
        "outputId": "ff25744b-184e-49a6-bda2-9f8ebec5f093"
      },
      "execution_count": null,
      "outputs": [
        {
          "output_type": "stream",
          "name": "stdout",
          "text": [
            "Model: GBDT\n",
            "Macro Precision: 0.8239623317849835\n",
            "Macro Recall: 0.749303598301215\n",
            "Macro F1-score: 0.7760049289116404\n",
            "\n",
            "\n",
            "Model: XGBDT\n",
            "Macro Precision: 0.8216139988347683\n",
            "Macro Recall: 0.7461623846753587\n",
            "Macro F1-score: 0.7729304788064897\n",
            "\n",
            "\n"
          ]
        }
      ]
    },
    {
      "cell_type": "markdown",
      "source": [
        "### Model Accuracy & Classification Report"
      ],
      "metadata": {
        "id": "b2nbPPTQ8k7i"
      }
    },
    {
      "cell_type": "code",
      "source": [
        "# Import accuracy and classification report functions\n",
        "from sklearn.metrics import accuracy_score\n",
        "from sklearn.metrics import classification_report\n",
        "\n",
        "# Predict class labels from probabilities using GBDT model on test data\n",
        "y_pred_prob = GBDT_model.predict(X_test)\n",
        "y_pred = (y_pred_prob > 0.5).astype(int)\n",
        "\n",
        "# Print accuracy and full classification report\n",
        "print(\"GBDT Accuracy:\", accuracy_score(Y_test, y_pred))\n",
        "print(\"\\nClassification Report:\\n\", classification_report(Y_test, y_pred))\n",
        "\n",
        "# Repeat for XGB model\n",
        "y_pred_prob = XGB_model.predict(X_test)\n",
        "y_pred = (y_pred_prob > 0.5).astype(int)\n",
        "\n",
        "# Evaluate the model\n",
        "print(\"XGB Accuracy:\", accuracy_score(Y_test, y_pred))\n",
        "print(\"\\nClassification Report:\\n\", classification_report(Y_test, y_pred))"
      ],
      "metadata": {
        "colab": {
          "base_uri": "https://localhost:8080/"
        },
        "id": "GmjaFLgy5nXq",
        "outputId": "8352feb2-a548-46dc-dfcc-d3889fa408c3"
      },
      "execution_count": null,
      "outputs": [
        {
          "output_type": "stream",
          "name": "stdout",
          "text": [
            "GBDT Accuracy: 0.8570005534034311\n",
            "\n",
            "Classification Report:\n",
            "               precision    recall  f1-score   support\n",
            "\n",
            "         0.0       0.77      0.55      0.64      4222\n",
            "         1.0       0.87      0.95      0.91     13848\n",
            "\n",
            "    accuracy                           0.86     18070\n",
            "   macro avg       0.82      0.75      0.78     18070\n",
            "weighted avg       0.85      0.86      0.85     18070\n",
            "\n",
            "XGB Accuracy: 0.8553403431101273\n",
            "\n",
            "Classification Report:\n",
            "               precision    recall  f1-score   support\n",
            "\n",
            "         0.0       0.77      0.54      0.64      4222\n",
            "         1.0       0.87      0.95      0.91     13848\n",
            "\n",
            "    accuracy                           0.86     18070\n",
            "   macro avg       0.82      0.75      0.77     18070\n",
            "weighted avg       0.85      0.86      0.85     18070\n",
            "\n"
          ]
        }
      ]
    },
    {
      "cell_type": "markdown",
      "source": [
        "Since the default XGBoost model shows slight overfitting, we use random search to find better hyperparameters.\n"
      ],
      "metadata": {
        "id": "ODw-TJJtziDI"
      }
    },
    {
      "cell_type": "markdown",
      "source": [
        "### Hyperparameter Tuning with Random Search"
      ],
      "metadata": {
        "id": "KX5_AZptLncv"
      }
    },
    {
      "cell_type": "code",
      "source": [
        "# Import libraries for randomized hyperparameter tuning\n",
        "from sklearn.model_selection import RandomizedSearchCV\n",
        "from scipy.stats import uniform, randint\n",
        "\n",
        "# Suppress warning messages for cleaner output\n",
        "import warnings\n",
        "warnings.filterwarnings(\"ignore\")\n",
        "\n",
        "# Define a reusable function to perform RandomizedSearchCV\n",
        "def random_search(algo, hyperparameters, X_train, Y_train):\n",
        "\n",
        "    \"\"\"\n",
        "    Perform random search on given algorithm with specified hyperparameter ranges.\n",
        "    Returns the best hyperparameter set found.\n",
        "\n",
        "    \"\"\"\n",
        "\n",
        "  # do the search using 5 folds/chunks\n",
        "  clf = RandomizedSearchCV(\n",
        "                           algo,                           # Model/Algorithm to tune\n",
        "                           hyperparameters,                # Hyperparameter search space\n",
        "                           cv=5,                           # 5-fold cross-validation\n",
        "                           random_state=2015,              # For reproducibility\n",
        "                           scoring='precision_macro',      # Metric to optimise\n",
        "                           n_iter=20,                      # Number of random combinations to try\n",
        "                           refit=True                      # Fit final model with best params\n",
        ")\n",
        "\n",
        "  # Fit on training data\n",
        "  clf.fit(X_train, Y_train)\n",
        "\n",
        "  # Return best parameters found\n",
        "  return clf.best_params_"
      ],
      "metadata": {
        "id": "o1dD_t006BFV"
      },
      "execution_count": null,
      "outputs": []
    },
    {
      "cell_type": "markdown",
      "source": [
        "We define a reusable function to automatically search for the best model settings using RandomizedSearchCV. This helps improve performance by trying different combinations of parameters like learning rate, depth, and number of trees."
      ],
      "metadata": {
        "id": "q1kF8iGyJf8t"
      }
    },
    {
      "cell_type": "markdown",
      "source": [
        "### Define Search Space and Run Tuning"
      ],
      "metadata": {
        "id": "4fZzKlWm895r"
      }
    },
    {
      "cell_type": "code",
      "source": [
        "# Define Hyperparameter Ranges\n",
        "\n",
        "XGB_tuned_parameters = {\n",
        "    'n_estimators': randint(25, 250), # Number of trees\n",
        "    'eta': uniform(loc=0.01, scale=4.99),  # Learning rate\n",
        "    'objective': ['binary:logistic', 'binary:hinge'], # objective is the same as criterion\n",
        "    'max_depth': randint(2, 7)  # Tree depth\n",
        "}\n",
        "\n",
        "# Run tuning and print the best hyperparameters\n",
        "XGB_best_params = random_search(XGB_algo, XGB_tuned_parameters, X_train, Y_train)"
      ],
      "metadata": {
        "id": "qpVh16wf72_C"
      },
      "execution_count": null,
      "outputs": []
    },
    {
      "cell_type": "markdown",
      "source": [
        "### Train and Evaluate the Tuned XGB Model"
      ],
      "metadata": {
        "id": "SQ6gYT-fJ0Zw"
      }
    },
    {
      "cell_type": "code",
      "source": [
        "# Train the XGB model using the best found parameters\n",
        "XGB_algo = XGB(**XGB_best_params)\n",
        "XGB_model = XGB_algo.fit(X_train, Y_train)\n",
        "\n",
        "\n",
        "# Define a list for evaluation\n",
        "models = [XGB_model]\n",
        "names = ['XGBDT']\n",
        "\n",
        "# Evaluate model performance on training data\n",
        "for i in range(1):\n",
        "  print(f\"train score\")\n",
        "  print(f\"Model: {names[i]}\")\n",
        "  predict = models[i].predict(X_train)\n",
        "\n",
        "  # Calculate macro-average precision, recall, F1\n",
        "  precision, recall, f1_score, _ = precision_recall_fscore_support(Y_train, predict, average='macro')\n",
        "\n",
        "  # Print metrics\n",
        "  print(f\"Macro Precision: {precision}\")\n",
        "  print(f\"Macro Recall: {recall}\")\n",
        "  print(f\"Macro F1-score: {f1_score}\")\n",
        "  print(\"\\n\")\n",
        "\n",
        "# Evaluate model performance on test data\n",
        "for i in range(1):\n",
        "  print(f\"test score\")\n",
        "  print(f\"Model: {names[i]}\")\n",
        "  predict = models[i].predict(X_test)\n",
        "  precision, recall, f1_score, _ = precision_recall_fscore_support(Y_test, predict, average='macro')\n",
        "  print(f\"Macro Precision: {precision}\")\n",
        "  print(f\"Macro Recall: {recall}\")\n",
        "  print(f\"Macro F1-score: {f1_score}\")\n",
        "  print(\"\\n\")"
      ],
      "metadata": {
        "colab": {
          "base_uri": "https://localhost:8080/"
        },
        "id": "VrpmK82R8EiB",
        "outputId": "019ceb17-86c6-414f-8ef5-9e689cf480c7"
      },
      "execution_count": null,
      "outputs": [
        {
          "output_type": "stream",
          "name": "stdout",
          "text": [
            "train score\n",
            "Model: XGBDT\n",
            "Macro Precision: 0.8066141787330807\n",
            "Macro Recall: 0.7504625989656812\n",
            "Macro F1-score: 0.7720246594420472\n",
            "\n",
            "\n",
            "test score\n",
            "Model: XGBDT\n",
            "Macro Precision: 0.8041204278564478\n",
            "Macro Recall: 0.7485452976499811\n",
            "Macro F1-score: 0.7698792542562322\n",
            "\n",
            "\n"
          ]
        }
      ]
    },
    {
      "cell_type": "markdown",
      "source": [
        "We retrain the XGB model using the best parameters and check its performance on both training and testing data using precision, recall, and F1-score."
      ],
      "metadata": {
        "id": "wIjCuhpDJ-UL"
      }
    },
    {
      "cell_type": "markdown",
      "source": [
        "### Final Accuracy and Classification Report (XGB Tuned)"
      ],
      "metadata": {
        "id": "yImkzUclKBIc"
      }
    },
    {
      "cell_type": "code",
      "source": [
        "# Make final predictions on test data\n",
        "y_pred_prob = XGB_model.predict(X_test)  # get probabilities or predictions\n",
        "y_pred = (y_pred_prob > 0.5).astype(int) # convert to binary labels if needed\n",
        "\n",
        "# Print accuracy\n",
        "print(\"XGB Accuracy:\", accuracy_score(Y_test, y_pred))\n",
        "\n",
        "# Print detailed classification report\n",
        "print(\"\\nClassification Report:\\n\", classification_report(Y_test, y_pred))"
      ],
      "metadata": {
        "colab": {
          "base_uri": "https://localhost:8080/"
        },
        "id": "sxGIB1bR9mcO",
        "outputId": "b217ac1d-6544-44e2-fb12-94fe1b9db797"
      },
      "execution_count": null,
      "outputs": [
        {
          "output_type": "stream",
          "name": "stdout",
          "text": [
            "XGB Accuracy: 0.849529607083564\n",
            "\n",
            "Classification Report:\n",
            "               precision    recall  f1-score   support\n",
            "\n",
            "         0.0       0.73      0.56      0.63      4222\n",
            "         1.0       0.87      0.94      0.91     13848\n",
            "\n",
            "    accuracy                           0.85     18070\n",
            "   macro avg       0.80      0.75      0.77     18070\n",
            "weighted avg       0.84      0.85      0.84     18070\n",
            "\n"
          ]
        }
      ]
    },
    {
      "cell_type": "markdown",
      "source": [
        "### Plot Confusion Matrix for Tuned model"
      ],
      "metadata": {
        "id": "HU5AxZBV9DoR"
      }
    },
    {
      "cell_type": "code",
      "source": [
        "# Confusion Matrix Visualization\n",
        "from sklearn.metrics import ConfusionMatrixDisplay as CM\n",
        "\n",
        "# GBDT\n",
        "print(\"GBDT Confusion Matrix\")\n",
        "predict = GBDT_model.predict(X_test)\n",
        "print(CM.from_predictions(Y_test, predict))\n",
        "\n",
        "# XGBoost\n",
        "print(\"XGB Confusion Matrix\")\n",
        "predict = XGB_model.predict(X_test)\n",
        "CM.from_predictions(Y_test, predict)"
      ],
      "metadata": {
        "colab": {
          "base_uri": "https://localhost:8080/",
          "height": 953
        },
        "id": "js4mhZMg9I_M",
        "outputId": "51e58631-a4bf-43ad-b15f-380ec5563a4f"
      },
      "execution_count": null,
      "outputs": [
        {
          "output_type": "stream",
          "name": "stdout",
          "text": [
            "GBDT Confusion Matrix\n",
            "<sklearn.metrics._plot.confusion_matrix.ConfusionMatrixDisplay object at 0x7e97ac530df0>\n",
            "XGB Confusion Matrix\n"
          ]
        },
        {
          "output_type": "execute_result",
          "data": {
            "text/plain": [
              "<sklearn.metrics._plot.confusion_matrix.ConfusionMatrixDisplay at 0x7e97b2bb8160>"
            ]
          },
          "metadata": {},
          "execution_count": 45
        },
        {
          "output_type": "display_data",
          "data": {
            "text/plain": [
              "<Figure size 640x480 with 2 Axes>"
            ],
            "image/png": "[encoded data removed]"
          },
          "metadata": {}
        },
        {
          "output_type": "display_data",
          "data": {
            "text/plain": [
              "<Figure size 640x480 with 2 Axes>"
            ],
            "image/png": "[encoded data removed]"
          },
          "metadata": {}
        }
      ]
    },
    {
      "cell_type": "markdown",
      "source": [
        "### GBDT Feature Importance Plot"
      ],
      "metadata": {
        "id": "7_UyzmVF8xK7"
      }
    },
    {
      "cell_type": "code",
      "source": [
        "# Feature importance for GBDT Model\n",
        "import matplotlib.pyplot as plt\n",
        "importances = GBDT_model.feature_importances_\n",
        "\n",
        "X_train.columns=['payment_value', 'review_time',\n",
        "               'status', 'delivery_time', 'payment_installments',\n",
        "               'price', 'freight_value','category','product_name_lenght',\n",
        "               'product_description_lenght','product_photos_qty',\n",
        "               'product_weight_g','size','item_number',\n",
        "               'mean_review_score_product','mean_review_score_seller','mean_review_score_productcategory']\n",
        "features = X_train.columns\n",
        "\n",
        "# Sort and plot\n",
        "feature_importance_df = pd.DataFrame({\n",
        "    'feature': features,\n",
        "    'importance': importances\n",
        "})\n",
        "\n",
        "\n",
        "feature_importance_df = feature_importance_df.sort_values(by='importance', ascending=False)\n",
        "\n",
        "plt.figure(figsize=(10, 6))\n",
        "plt.barh(feature_importance_df['feature'], feature_importance_df['importance'], color='skyblue')\n",
        "plt.xlabel('Feature Importance')\n",
        "plt.title('GBDT Feature Importance')\n",
        "plt.gca().invert_yaxis()\n",
        "plt.show()"
      ],
      "metadata": {
        "colab": {
          "base_uri": "https://localhost:8080/",
          "height": 564
        },
        "id": "8AdA9SSL8oQE",
        "outputId": "2cdd3cf7-23be-4dd8-bdd5-a59da9df4a62"
      },
      "execution_count": null,
      "outputs": [
        {
          "output_type": "display_data",
          "data": {
            "text/plain": [
              "<Figure size 1000x600 with 1 Axes>"
            ],
            "image/png": "[encoded data removed]"
          },
          "metadata": {}
        }
      ]
    },
    {
      "cell_type": "markdown",
      "source": [
        "### XGBoost Feature Importance Plot"
      ],
      "metadata": {
        "id": "xR4-A2rb_8bE"
      }
    },
    {
      "cell_type": "code",
      "source": [
        "import matplotlib.pyplot as plt\n",
        "import xgboost as xgb"
      ],
      "metadata": {
        "id": "lv3JuIn0_-ZP"
      },
      "execution_count": null,
      "outputs": []
    },
    {
      "cell_type": "code",
      "source": [
        "#feature importance of XGB\n",
        "xgb_importance = XGB_model.get_booster().get_score(importance_type='gain')\n",
        "importance_dict = {feature: xgb_importance.get(feature, 0) for feature in features}\n",
        "\n",
        "# Convert to DataFrame\n",
        "importance_df_xgb = pd.DataFrame({\n",
        "    'Feature': list(importance_dict.keys()),\n",
        "    'Gain': list(importance_dict.values())\n",
        "}).sort_values(by='Gain', ascending=False)\n",
        "\n",
        "# Plot\n",
        "plt.figure(figsize=(10, 6))\n",
        "plt.barh(importance_df_xgb['Feature'], importance_df_xgb['Gain'], color='skyblue')\n",
        "plt.xlabel('feature importance')\n",
        "plt.ylabel('Feature')\n",
        "plt.title('XGBoost Feature Importance')\n",
        "plt.gca().invert_yaxis()\n",
        "plt.show()"
      ],
      "metadata": {
        "colab": {
          "base_uri": "https://localhost:8080/",
          "height": 564
        },
        "id": "L3Pg9ACOBTeh",
        "outputId": "90c53bb1-e639-447a-bff6-e2813d1e5dc2"
      },
      "execution_count": null,
      "outputs": [
        {
          "output_type": "display_data",
          "data": {
            "text/plain": [
              "<Figure size 1000x600 with 1 Axes>"
            ],
            "image/png": "[encoded data removed]"
          },
          "metadata": {}
        }
      ]
    },
    {
      "cell_type": "markdown",
      "source": [
        "\n",
        "\n",
        "---\n",
        "\n",
        "\n",
        "* Both models rely heavily on the average product review score for predictions,\n",
        "with XGB even using only two features.\n",
        "* This might result in the model being overly simplistic and unable to handle future data effectively.\n",
        "* To reconfirm the important features, the variables that might lead to data leaking are removed and the model is retrained.\n",
        "\n",
        "\n",
        "---\n",
        "\n"
      ],
      "metadata": {
        "id": "V7yM_ld69ChJ"
      }
    },
    {
      "cell_type": "markdown",
      "source": [
        "# 2. Model without average columns--just to check the feature importance"
      ],
      "metadata": {
        "id": "sjvj19Kd4oz4"
      }
    },
    {
      "cell_type": "code",
      "source": [
        "# Remove columns that might cause data leakage like 'mean_review_score_product','mean_review_score_seller','mean_review_score_productcategory'\n",
        "columns_to_keep_new = ['review_score','payment_value', 'review_time',\n",
        "               'status', 'delivery_time', 'payment_installments',\n",
        "               'price', 'freight_value','category','product_name_lenght',\n",
        "               'product_description_lenght','product_photos_qty',\n",
        "               'product_weight_g','size','item_number']\n",
        "\n",
        "df = df[columns_to_keep_new]  # Keep only the specified columns"
      ],
      "metadata": {
        "id": "lWo5rdgX48o9"
      },
      "execution_count": null,
      "outputs": []
    },
    {
      "cell_type": "code",
      "source": [
        "# Separate the target variable and features\n",
        "y_value = df['review_score'] # set the y\n",
        "y_values = np.ravel(y_value) # Flatten to 1D array\n",
        "x_values = df.drop('review_score', axis=1)\n",
        "\n",
        "# Split into training and test sets (80/20 split with stratification)\n",
        "from sklearn.model_selection  import train_test_split\n",
        "X_train, X_test, Y_train, Y_test = train_test_split(x_values, y_value, test_size = 0.2, random_state=4567, stratify=y_value)\n",
        "\n",
        "# Print dataset shapes and feature metadata\n",
        "print(X_train.shape)\n",
        "print(X_test.shape)\n",
        "print(Y_train.shape)\n",
        "print(Y_test.shape)\n",
        "print(X_test.columns)\n",
        "print(X_test.dtypes)"
      ],
      "metadata": {
        "colab": {
          "base_uri": "https://localhost:8080/"
        },
        "id": "0tAhQd5h6jC1",
        "outputId": "92d251af-8799-4c71-c4ba-323f893db528"
      },
      "execution_count": null,
      "outputs": [
        {
          "output_type": "stream",
          "name": "stdout",
          "text": [
            "(72277, 14)\n",
            "(18070, 14)\n",
            "(72277,)\n",
            "(18070,)\n",
            "Index(['payment_value', 'review_time', 'status', 'delivery_time',\n",
            "       'payment_installments', 'price', 'freight_value', 'category',\n",
            "       'product_name_lenght', 'product_description_lenght',\n",
            "       'product_photos_qty', 'product_weight_g', 'size', 'item_number'],\n",
            "      dtype='object')\n",
            "payment_value                 float64\n",
            "review_time                     int64\n",
            "status                          int64\n",
            "delivery_time                   int64\n",
            "payment_installments          float64\n",
            "price                         float64\n",
            "freight_value                 float64\n",
            "category                         int8\n",
            "product_name_lenght           float64\n",
            "product_description_lenght    float64\n",
            "product_photos_qty            float64\n",
            "product_weight_g              float64\n",
            "size                          float64\n",
            "item_number                     int64\n",
            "dtype: object\n"
          ]
        }
      ]
    },
    {
      "cell_type": "code",
      "source": [
        "from sklearn.ensemble import GradientBoostingClassifier as GBDT\n",
        "from xgboost import XGBClassifier as XGB\n",
        "from sklearn.metrics import precision_recall_fscore_support\n",
        "\n",
        "# Train baseline GBDT model\n",
        "GBDT_algo = GBDT()\n",
        "GBDT_model = GBDT_algo.fit(X_train, Y_train)\n",
        "\n",
        "# Train baseline XGBoost model\n",
        "XGB_algo = XGB()\n",
        "XGB_model = XGB_algo.fit(X_train, Y_train)\n",
        "\n",
        "\n",
        "models = [ GBDT_model, XGB_model]\n",
        "names = [  'GBDT', 'XGBDT']"
      ],
      "metadata": {
        "id": "c4zReEFc7iof"
      },
      "execution_count": null,
      "outputs": []
    },
    {
      "cell_type": "markdown",
      "source": [
        "train score"
      ],
      "metadata": {
        "id": "h7MKCFGxDiTF"
      }
    },
    {
      "cell_type": "code",
      "source": [
        "# Evaluate Training Set Performance\n",
        "for i in range(2):\n",
        "  print(f\"Model: {names[i]}\")\n",
        "  predict = models[i].predict(X_train)\n",
        "  precision, recall, f1_score, _ = precision_recall_fscore_support(Y_train, predict, average='macro')\n",
        "\n",
        "\n",
        "  print(f\"Macro Precision: {precision}\")\n",
        "  print(f\"Macro Recall: {recall}\")\n",
        "  print(f\"Macro F1-score: {f1_score}\")\n",
        "  print(\"\\n\")"
      ],
      "metadata": {
        "colab": {
          "base_uri": "https://localhost:8080/"
        },
        "id": "5I9cR_M27lnI",
        "outputId": "42342bd9-e537-4bf9-ec1c-49cf3b7883b4"
      },
      "execution_count": null,
      "outputs": [
        {
          "output_type": "stream",
          "name": "stdout",
          "text": [
            "Model: GBDT\n",
            "Macro Precision: 0.7968389594739094\n",
            "Macro Recall: 0.6255763498387759\n",
            "Macro F1-score: 0.6474944424326832\n",
            "\n",
            "\n",
            "Model: XGBDT\n",
            "Macro Precision: 0.8503515708639369\n",
            "Macro Recall: 0.6804608101162466\n",
            "Macro F1-score: 0.7156402646709542\n",
            "\n",
            "\n"
          ]
        }
      ]
    },
    {
      "cell_type": "markdown",
      "source": [
        "test score"
      ],
      "metadata": {
        "id": "DheTbmJ2DkxD"
      }
    },
    {
      "cell_type": "code",
      "source": [
        "# Evaluate Test Set Performance\n",
        "for i in range(2):\n",
        "  print(f\"Model: {names[i]}\")\n",
        "  predict = models[i].predict(X_test)\n",
        "  precision, recall, f1_score, _ = precision_recall_fscore_support(Y_test, predict, average='macro')\n",
        "\n",
        "  print(f\"Macro Precision: {precision}\")\n",
        "  print(f\"Macro Recall: {recall}\")\n",
        "  print(f\"Macro F1-score: {f1_score}\")\n",
        "  print(\"\\n\")"
      ],
      "metadata": {
        "colab": {
          "base_uri": "https://localhost:8080/"
        },
        "id": "ixldByyr7mID",
        "outputId": "0951a57c-18ae-4b23-8563-b152dcf769c5"
      },
      "execution_count": null,
      "outputs": [
        {
          "output_type": "stream",
          "name": "stdout",
          "text": [
            "Model: GBDT\n",
            "Macro Precision: 0.7903524474018481\n",
            "Macro Recall: 0.6250778397713718\n",
            "Macro F1-score: 0.646661629169063\n",
            "\n",
            "\n",
            "Model: XGBDT\n",
            "Macro Precision: 0.7759176940530184\n",
            "Macro Recall: 0.638822571433341\n",
            "Macro F1-score: 0.6627561324071978\n",
            "\n",
            "\n"
          ]
        }
      ]
    },
    {
      "cell_type": "markdown",
      "source": [
        "### Accuracy and Classification Reports"
      ],
      "metadata": {
        "id": "awZ79QQC8vgP"
      }
    },
    {
      "cell_type": "code",
      "source": [
        "from sklearn.metrics import accuracy_score\n",
        "from sklearn.metrics import classification_report\n",
        "\n",
        "# Evaluate GBDT\n",
        "y_pred_prob = GBDT_model.predict(X_test)\n",
        "y_pred = (y_pred_prob > 0.5).astype(int)      # Threshold predictions\n",
        "\n",
        "print(\"GBDT Accuracy:\", accuracy_score(Y_test, y_pred))\n",
        "print(\"\\nClassification Report:\\n\", classification_report(Y_test, y_pred))\n",
        "\n",
        "# Evaluate XGBoost\n",
        "y_pred_prob = XGB_model.predict(X_test)\n",
        "y_pred = (y_pred_prob > 0.5).astype(int)\n",
        "\n",
        "print(\"XGB Accuracy:\", accuracy_score(Y_test, y_pred))\n",
        "print(\"\\nClassification Report:\\n\", classification_report(Y_test, y_pred))"
      ],
      "metadata": {
        "colab": {
          "base_uri": "https://localhost:8080/"
        },
        "id": "1DAXx6eN8hjq",
        "outputId": "8de62ce1-2776-4d13-fd04-1f286aa1cd3a"
      },
      "execution_count": null,
      "outputs": [
        {
          "output_type": "stream",
          "name": "stdout",
          "text": [
            "GBDT Accuracy: 0.8110680686220254\n",
            "\n",
            "Classification Report:\n",
            "               precision    recall  f1-score   support\n",
            "\n",
            "         0.0       0.77      0.28      0.41      4222\n",
            "         1.0       0.82      0.97      0.89     13848\n",
            "\n",
            "    accuracy                           0.81     18070\n",
            "   macro avg       0.79      0.63      0.65     18070\n",
            "weighted avg       0.80      0.81      0.78     18070\n",
            "\n",
            "XGB Accuracy: 0.8124515771997787\n",
            "\n",
            "Classification Report:\n",
            "               precision    recall  f1-score   support\n",
            "\n",
            "         0.0       0.73      0.31      0.44      4222\n",
            "         1.0       0.82      0.96      0.89     13848\n",
            "\n",
            "    accuracy                           0.81     18070\n",
            "   macro avg       0.78      0.64      0.66     18070\n",
            "weighted avg       0.80      0.81      0.78     18070\n",
            "\n"
          ]
        }
      ]
    },
    {
      "cell_type": "markdown",
      "source": [
        "The XGB model has a slight overfitting, so using hyperparameters"
      ],
      "metadata": {
        "id": "18lBHYK9coxn"
      }
    },
    {
      "cell_type": "markdown",
      "source": [
        "**XGB-using hyperparameters**"
      ],
      "metadata": {
        "id": "OLp2cOxzLs4w"
      }
    },
    {
      "cell_type": "code",
      "source": [
        "# Use randomized search with cross-validation to tune hyperparameters\n",
        "from sklearn.model_selection import RandomizedSearchCV\n",
        "from scipy.stats import uniform, randint\n",
        "\n",
        "# we get a load of warnings running the code so will supress them\n",
        "import warnings\n",
        "warnings.filterwarnings(\"ignore\")\n",
        "\n",
        "# Define random search function for reuse\n",
        "def random_search(algo, hyperparameters, X_train, Y_train):\n",
        "  # do the search using 5 folds/chunks\n",
        "  clf = RandomizedSearchCV(algo, hyperparameters, cv=5, random_state=2015,\n",
        "                          scoring='precision_macro', n_iter=20, refit=True)\n",
        "  clf.fit(X_train, Y_train)\n",
        "  return clf.best_params_"
      ],
      "metadata": {
        "id": "MxI9LUglJlzj"
      },
      "execution_count": null,
      "outputs": []
    },
    {
      "cell_type": "code",
      "source": [
        "# Define hyperparameter space\n",
        "XGB_tuned_parameters = {\n",
        "    'n_estimators': randint(25, 250), # number of trees\n",
        "    'eta': uniform(loc=0.01, scale=4.99),  # learning rate\n",
        "    'objective': ['binary:logistic', 'binary:hinge'],  # objective is the same as criterion\n",
        "    'max_depth': randint(2, 7)  # Tree depth\n",
        "}\n",
        "\n",
        "# Find best hyperparameters\n",
        "XGB_best_params = random_search(XGB_algo, XGB_tuned_parameters, X_train, Y_train)"
      ],
      "metadata": {
        "id": "khau067sJyeh"
      },
      "execution_count": null,
      "outputs": []
    },
    {
      "cell_type": "code",
      "source": [
        "# Train XGBoost with best parameters\n",
        "XGB_algo = XGB(**XGB_best_params)\n",
        "XGB_model = XGB_algo.fit(X_train, Y_train)\n",
        "\n",
        "# score the models\n",
        "models = [XGB_model]\n",
        "names = ['XGBDT']\n",
        "\n",
        "# Evaluate tuned XGB on train\n",
        "for i in range(1):\n",
        "  print(f\"train score\")\n",
        "  print(f\"Model: {names[i]}\")\n",
        "  predict = models[i].predict(X_train)\n",
        "  precision, recall, f1_score, _ = precision_recall_fscore_support(Y_train, predict, average='macro')\n",
        "  print(f\"Macro Precision: {precision}\")\n",
        "  print(f\"Macro Recall: {recall}\")\n",
        "  print(f\"Macro F1-score: {f1_score}\")\n",
        "  print(\"\\n\")\n",
        "\n",
        "\n",
        "# Evaluate tuned XGB on test\n",
        "for i in range(1):\n",
        "  print(f\"test score\")\n",
        "  print(f\"Model: {names[i]}\")\n",
        "  predict = models[i].predict(X_test)\n",
        "  precision, recall, f1_score, _ = precision_recall_fscore_support(Y_test, predict, average='macro')\n",
        "  print(f\"Macro Precision: {precision}\")\n",
        "  print(f\"Macro Recall: {recall}\")\n",
        "  print(f\"Macro F1-score: {f1_score}\")\n",
        "  print(\"\\n\")"
      ],
      "metadata": {
        "colab": {
          "base_uri": "https://localhost:8080/"
        },
        "id": "1U42phtTJzWi",
        "outputId": "af121177-6193-4631-d67a-33b3bd030e7b"
      },
      "execution_count": null,
      "outputs": [
        {
          "output_type": "stream",
          "name": "stdout",
          "text": [
            "train score\n",
            "Model: XGBDT\n",
            "Macro Precision: 0.7881546644228361\n",
            "Macro Recall: 0.6166165508699126\n",
            "Macro F1-score: 0.6356850785634697\n",
            "\n",
            "\n",
            "test score\n",
            "Model: XGBDT\n",
            "Macro Precision: 0.7914735334402352\n",
            "Macro Recall: 0.6193846754955542\n",
            "Macro F1-score: 0.6393674144142375\n",
            "\n",
            "\n"
          ]
        }
      ]
    },
    {
      "cell_type": "code",
      "source": [
        "# Final accuracy and classification report\n",
        "\n",
        "y_pred_prob = XGB_model.predict(X_test)\n",
        "y_pred = (y_pred_prob > 0.5).astype(int)\n",
        "print(\"XGB Accuracy:\", accuracy_score(Y_test, y_pred))\n",
        "print(\"\\nClassification Report:\\n\", classification_report(Y_test, y_pred))"
      ],
      "metadata": {
        "colab": {
          "base_uri": "https://localhost:8080/"
        },
        "id": "OVpr5QfWJ5R9",
        "outputId": "f8fc684f-a9db-4020-964e-8e1f55d6a869"
      },
      "execution_count": null,
      "outputs": [
        {
          "output_type": "stream",
          "name": "stdout",
          "text": [
            "XGB Accuracy: 0.8094078583287216\n",
            "\n",
            "Classification Report:\n",
            "               precision    recall  f1-score   support\n",
            "\n",
            "         0.0       0.77      0.26      0.39      4222\n",
            "         1.0       0.81      0.98      0.89     13848\n",
            "\n",
            "    accuracy                           0.81     18070\n",
            "   macro avg       0.79      0.62      0.64     18070\n",
            "weighted avg       0.80      0.81      0.77     18070\n",
            "\n"
          ]
        }
      ]
    },
    {
      "cell_type": "markdown",
      "source": [
        "### Confusion Matrix"
      ],
      "metadata": {
        "id": "7pQeCtBj0J2U"
      }
    },
    {
      "cell_type": "code",
      "source": [
        "#draw confusion matrix\n",
        "from sklearn.metrics import ConfusionMatrixDisplay as CM\n",
        "\n",
        "# GBDT\n",
        "print(\"GBDT Confusion Matrix\")\n",
        "predict = GBDT_model.predict(X_test)\n",
        "print(CM.from_predictions(Y_test, predict))\n",
        "\n",
        "# XGB\n",
        "print(\"XGB Confusion Matrix\")\n",
        "predict = XGB_model.predict(X_test)\n",
        "CM.from_predictions(Y_test, predict)"
      ],
      "metadata": {
        "colab": {
          "base_uri": "https://localhost:8080/",
          "height": 953
        },
        "id": "SxzVofLAI54D",
        "outputId": "c18c9842-3585-4988-9394-0dcb130ef5f1"
      },
      "execution_count": null,
      "outputs": [
        {
          "output_type": "stream",
          "name": "stdout",
          "text": [
            "GBDT Confusion Matrix\n",
            "<sklearn.metrics._plot.confusion_matrix.ConfusionMatrixDisplay object at 0x7e97b256a620>\n",
            "XGB Confusion Matrix\n"
          ]
        },
        {
          "output_type": "execute_result",
          "data": {
            "text/plain": [
              "<sklearn.metrics._plot.confusion_matrix.ConfusionMatrixDisplay at 0x7e97b256a710>"
            ]
          },
          "metadata": {},
          "execution_count": 59
        },
        {
          "output_type": "display_data",
          "data": {
            "text/plain": [
              "<Figure size 640x480 with 2 Axes>"
            ],
            "image/png": "[encoded data removed]"
          },
          "metadata": {}
        },
        {
          "output_type": "display_data",
          "data": {
            "text/plain": [
              "<Figure size 640x480 with 2 Axes>"
            ],
            "image/png": "[encoded data removed]"
          },
          "metadata": {}
        }
      ]
    },
    {
      "cell_type": "markdown",
      "source": [
        "The `GBDT model` is good at correctly predicting “Yes”, but it often makes mistakes when the true answer is “No” — it calls some of those “Yes” by mistake.\n",
        "\n",
        "\n",
        "The `XGB model` makes fewer mistakes than GBDT, especially when the true answer is “No.” It does a slightly better job overall at telling “Yes” from “No.”"
      ],
      "metadata": {
        "id": "m4vTJUNQLqB6"
      }
    },
    {
      "cell_type": "markdown",
      "source": [
        "# feature importance"
      ],
      "metadata": {
        "id": "8AMqKm2gJdCv"
      }
    },
    {
      "cell_type": "code",
      "source": [
        "#feature importance of GBDT\n",
        "import matplotlib.pyplot as plt\n",
        "importances = GBDT_model.feature_importances_\n",
        "\n",
        "X_train.columns=['payment_value', 'review_time',\n",
        "               'status', 'delivery_time', 'payment_installments',\n",
        "               'price', 'freight_value','category','product_name_lenght',\n",
        "               'product_description_lenght','product_photos_qty',\n",
        "               'product_weight_g','size','item_number']\n",
        "features = X_train.columns\n",
        "\n",
        "# Get feature importances from trained GBDT model\n",
        "gbdt_importance = GBDT_model.feature_importances_\n",
        "importance_df = pd.DataFrame({\n",
        "    'Feature': features,\n",
        "    'Importance': gbdt_importance\n",
        "}).sort_values(by='Importance', ascending=False)\n",
        "\n",
        "# Plot GBDT Feature Importance\n",
        "plt.figure(figsize=(10, 6))\n",
        "plt.barh(importance_df['Feature'], importance_df['Importance'], color='skyblue')\n",
        "plt.xlabel('Gain')\n",
        "plt.ylabel('Feature')\n",
        "plt.title('GBDT Feature Importance')\n",
        "plt.gca().invert_yaxis()         # Most important feature at top\n",
        "plt.show()"
      ],
      "metadata": {
        "colab": {
          "base_uri": "https://localhost:8080/",
          "height": 564
        },
        "id": "GbNaSXGb1bf0",
        "outputId": "c247b35b-fe65-45dc-838a-67f60ddfc5c6"
      },
      "execution_count": null,
      "outputs": [
        {
          "output_type": "display_data",
          "data": {
            "text/plain": [
              "<Figure size 1000x600 with 1 Axes>"
            ],
            "image/png": "[encoded data removed]"
          },
          "metadata": {}
        }
      ]
    },
    {
      "cell_type": "markdown",
      "source": [
        "The model relies heavily on `status` and `delivery_time` when predicting review scores"
      ],
      "metadata": {
        "id": "TxL1S0WULTp7"
      }
    },
    {
      "cell_type": "markdown",
      "source": [
        "### XGB Feature Importance"
      ],
      "metadata": {
        "id": "6rtbqW4PLADC"
      }
    },
    {
      "cell_type": "code",
      "source": [
        "# Get feature importances from trained XGB model, using 'gain' as the metric\n",
        "xgb_importance = XGB_model.get_booster().get_score(importance_type='gain')\n",
        "\n",
        "# Ensure all features are accounted for in the importance dict\n",
        "importance_dict = {feature: xgb_importance.get(feature, 0) for feature in features}\n",
        "\n",
        "# Create DataFrame and sort\n",
        "importance_df_xgb = pd.DataFrame({\n",
        "    'Feature': list(importance_dict.keys()),\n",
        "    'Gain': list(importance_dict.values())\n",
        "}).sort_values(by='Gain', ascending=False)\n",
        "\n",
        "# Plot XGBoost Feature Importance\n",
        "plt.figure(figsize=(10, 6))\n",
        "plt.barh(importance_df_xgb['Feature'], importance_df_xgb['Gain'], color='skyblue')\n",
        "plt.xlabel('Gain')\n",
        "plt.ylabel('Feature')\n",
        "plt.title('XGBoost Feature Importance')\n",
        "plt.gca().invert_yaxis()   # Most important feature at top\n",
        "plt.show()"
      ],
      "metadata": {
        "colab": {
          "base_uri": "https://localhost:8080/",
          "height": 564
        },
        "id": "EWd7d3lt1p6K",
        "outputId": "b8e07ae9-826a-438e-e4e7-672f8d61fd8c"
      },
      "execution_count": null,
      "outputs": [
        {
          "output_type": "display_data",
          "data": {
            "text/plain": [
              "<Figure size 1000x600 with 1 Axes>"
            ],
            "image/png": "[encoded data removed]"
          },
          "metadata": {}
        }
      ]
    },
    {
      "cell_type": "markdown",
      "source": [
        "XGB also identifies `status` and `delivery_time` as key predictors but distributes importance more smoothly among other features as well."
      ],
      "metadata": {
        "id": "C0NAwQG1LYOR"
      }
    }
  ],
  "metadata": {
    "kernelspec": {
      "display_name": "Python 3",
      "language": "python",
      "name": "python3"
    },
    "language_info": {
      "codemirror_mode": {
        "name": "ipython",
        "version": 3
      },
      "file_extension": ".py",
      "mimetype": "text/x-python",
      "name": "python",
      "nbconvert_exporter": "python",
      "pygments_lexer": "ipython3",
      "version": "3.12.6"
    },
    "colab": {
      "provenance": [],
      "include_colab_link": true
    }
  },
  "nbformat": 4,
  "nbformat_minor": 0
}